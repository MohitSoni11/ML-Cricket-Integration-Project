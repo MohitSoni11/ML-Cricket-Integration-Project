{
 "cells": [
  {
   "cell_type": "markdown",
   "metadata": {},
   "source": [
    "# Imports"
   ]
  },
  {
   "cell_type": "code",
   "execution_count": 278,
   "metadata": {},
   "outputs": [],
   "source": [
    "import pandas as pd\n",
    "import numpy as np\n",
    "import matplotlib as plt"
   ]
  },
  {
   "cell_type": "code",
   "execution_count": 279,
   "metadata": {},
   "outputs": [],
   "source": [
    "%matplotlib inline\n",
    "import seaborn as sb\n",
    "sb.set_style('whitegrid')"
   ]
  },
  {
   "cell_type": "markdown",
   "metadata": {},
   "source": [
    "# Important Variables"
   ]
  },
  {
   "cell_type": "code",
   "execution_count": 280,
   "metadata": {},
   "outputs": [],
   "source": [
    "TEAM_NAME = 'India'\n",
    "PLAYER_NAME = 'Virat Kohli'\n",
    "DROPFILE = 1202242"
   ]
  },
  {
   "cell_type": "markdown",
   "metadata": {},
   "source": [
    "# Getting Team Match Numbers"
   ]
  },
  {
   "cell_type": "code",
   "execution_count": 281,
   "metadata": {},
   "outputs": [
    {
     "data": {
      "text/html": [
       "<div>\n",
       "<style scoped>\n",
       "    .dataframe tbody tr th:only-of-type {\n",
       "        vertical-align: middle;\n",
       "    }\n",
       "\n",
       "    .dataframe tbody tr th {\n",
       "        vertical-align: top;\n",
       "    }\n",
       "\n",
       "    .dataframe thead th {\n",
       "        text-align: right;\n",
       "    }\n",
       "</style>\n",
       "<table border=\"1\" class=\"dataframe\">\n",
       "  <thead>\n",
       "    <tr style=\"text-align: right;\">\n",
       "      <th></th>\n",
       "      <th>Team_1</th>\n",
       "      <th>Team_1_number</th>\n",
       "      <th>Team_2</th>\n",
       "      <th>Team_2_number</th>\n",
       "      <th>Winner_team</th>\n",
       "      <th>Winner_team_number</th>\n",
       "      <th>Margin</th>\n",
       "      <th>Ground</th>\n",
       "      <th>Ground_number</th>\n",
       "      <th>Match Date</th>\n",
       "      <th>Scorecard</th>\n",
       "      <th>Match_number</th>\n",
       "      <th>Match_Type</th>\n",
       "    </tr>\n",
       "  </thead>\n",
       "  <tbody>\n",
       "    <tr>\n",
       "      <th>0</th>\n",
       "      <td>Mum Indians</td>\n",
       "      <td>335978.0</td>\n",
       "      <td>Supergiants</td>\n",
       "      <td>968721.0</td>\n",
       "      <td>Supergiants</td>\n",
       "      <td>968721.0</td>\n",
       "      <td>9 wickets</td>\n",
       "      <td>Mumbai</td>\n",
       "      <td>58324.0</td>\n",
       "      <td>Apr 9, 2016</td>\n",
       "      <td>T20</td>\n",
       "      <td>980901.0</td>\n",
       "      <td>IPL</td>\n",
       "    </tr>\n",
       "    <tr>\n",
       "      <th>1</th>\n",
       "      <td>KKR</td>\n",
       "      <td>335971.0</td>\n",
       "      <td>Daredevils</td>\n",
       "      <td>335975.0</td>\n",
       "      <td>KKR</td>\n",
       "      <td>335971.0</td>\n",
       "      <td>9 wickets</td>\n",
       "      <td>Kolkata</td>\n",
       "      <td>57980.0</td>\n",
       "      <td>Apr 10, 2016</td>\n",
       "      <td>T20</td>\n",
       "      <td>980903.0</td>\n",
       "      <td>IPL</td>\n",
       "    </tr>\n",
       "    <tr>\n",
       "      <th>2</th>\n",
       "      <td>Kings XI</td>\n",
       "      <td>335973.0</td>\n",
       "      <td>Guj Lions</td>\n",
       "      <td>968725.0</td>\n",
       "      <td>Guj Lions</td>\n",
       "      <td>968725.0</td>\n",
       "      <td>5 wickets</td>\n",
       "      <td>Mohali</td>\n",
       "      <td>57991.0</td>\n",
       "      <td>Apr 11, 2016</td>\n",
       "      <td>T20</td>\n",
       "      <td>980905.0</td>\n",
       "      <td>IPL</td>\n",
       "    </tr>\n",
       "    <tr>\n",
       "      <th>3</th>\n",
       "      <td>RCB</td>\n",
       "      <td>335970.0</td>\n",
       "      <td>Sunrisers</td>\n",
       "      <td>628333.0</td>\n",
       "      <td>RCB</td>\n",
       "      <td>335970.0</td>\n",
       "      <td>45 runs</td>\n",
       "      <td>Bengaluru</td>\n",
       "      <td>57897.0</td>\n",
       "      <td>Apr 12, 2016</td>\n",
       "      <td>T20</td>\n",
       "      <td>980907.0</td>\n",
       "      <td>IPL</td>\n",
       "    </tr>\n",
       "    <tr>\n",
       "      <th>4</th>\n",
       "      <td>KKR</td>\n",
       "      <td>335971.0</td>\n",
       "      <td>Mum Indians</td>\n",
       "      <td>335978.0</td>\n",
       "      <td>Mum Indians</td>\n",
       "      <td>335978.0</td>\n",
       "      <td>6 wickets</td>\n",
       "      <td>Kolkata</td>\n",
       "      <td>57980.0</td>\n",
       "      <td>Apr 13, 2016</td>\n",
       "      <td>T20</td>\n",
       "      <td>980909.0</td>\n",
       "      <td>IPL</td>\n",
       "    </tr>\n",
       "    <tr>\n",
       "      <th>5</th>\n",
       "      <td>Guj Lions</td>\n",
       "      <td>968725.0</td>\n",
       "      <td>Supergiants</td>\n",
       "      <td>968721.0</td>\n",
       "      <td>Guj Lions</td>\n",
       "      <td>968725.0</td>\n",
       "      <td>7 wickets</td>\n",
       "      <td>Rajkot</td>\n",
       "      <td>377285.0</td>\n",
       "      <td>Apr 14, 2016</td>\n",
       "      <td>T20</td>\n",
       "      <td>980911.0</td>\n",
       "      <td>IPL</td>\n",
       "    </tr>\n",
       "    <tr>\n",
       "      <th>6</th>\n",
       "      <td>Daredevils</td>\n",
       "      <td>335975.0</td>\n",
       "      <td>Kings XI</td>\n",
       "      <td>335973.0</td>\n",
       "      <td>Daredevils</td>\n",
       "      <td>335975.0</td>\n",
       "      <td>8 wickets</td>\n",
       "      <td>Delhi</td>\n",
       "      <td>58040.0</td>\n",
       "      <td>Apr 15, 2016</td>\n",
       "      <td>T20</td>\n",
       "      <td>980913.0</td>\n",
       "      <td>IPL</td>\n",
       "    </tr>\n",
       "    <tr>\n",
       "      <th>7</th>\n",
       "      <td>Sunrisers</td>\n",
       "      <td>628333.0</td>\n",
       "      <td>KKR</td>\n",
       "      <td>335971.0</td>\n",
       "      <td>KKR</td>\n",
       "      <td>335971.0</td>\n",
       "      <td>8 wickets</td>\n",
       "      <td>Hyderabad (Deccan)</td>\n",
       "      <td>58142.0</td>\n",
       "      <td>Apr 16, 2016</td>\n",
       "      <td>T20</td>\n",
       "      <td>980915.0</td>\n",
       "      <td>IPL</td>\n",
       "    </tr>\n",
       "    <tr>\n",
       "      <th>8</th>\n",
       "      <td>Mum Indians</td>\n",
       "      <td>335978.0</td>\n",
       "      <td>Guj Lions</td>\n",
       "      <td>968725.0</td>\n",
       "      <td>Guj Lions</td>\n",
       "      <td>968725.0</td>\n",
       "      <td>3 wickets</td>\n",
       "      <td>Mumbai</td>\n",
       "      <td>58324.0</td>\n",
       "      <td>Apr 16, 2016</td>\n",
       "      <td>T20</td>\n",
       "      <td>980917.0</td>\n",
       "      <td>IPL</td>\n",
       "    </tr>\n",
       "    <tr>\n",
       "      <th>9</th>\n",
       "      <td>Kings XI</td>\n",
       "      <td>335973.0</td>\n",
       "      <td>Supergiants</td>\n",
       "      <td>968721.0</td>\n",
       "      <td>Kings XI</td>\n",
       "      <td>335973.0</td>\n",
       "      <td>6 wickets</td>\n",
       "      <td>Mohali</td>\n",
       "      <td>57991.0</td>\n",
       "      <td>Apr 17, 2016</td>\n",
       "      <td>T20</td>\n",
       "      <td>980919.0</td>\n",
       "      <td>IPL</td>\n",
       "    </tr>\n",
       "  </tbody>\n",
       "</table>\n",
       "</div>"
      ],
      "text/plain": [
       "        Team_1  Team_1_number       Team_2  Team_2_number  Winner_team  \\\n",
       "0  Mum Indians       335978.0  Supergiants       968721.0  Supergiants   \n",
       "1          KKR       335971.0   Daredevils       335975.0          KKR   \n",
       "2     Kings XI       335973.0    Guj Lions       968725.0    Guj Lions   \n",
       "3          RCB       335970.0    Sunrisers       628333.0          RCB   \n",
       "4          KKR       335971.0  Mum Indians       335978.0  Mum Indians   \n",
       "5    Guj Lions       968725.0  Supergiants       968721.0    Guj Lions   \n",
       "6   Daredevils       335975.0     Kings XI       335973.0   Daredevils   \n",
       "7    Sunrisers       628333.0          KKR       335971.0          KKR   \n",
       "8  Mum Indians       335978.0    Guj Lions       968725.0    Guj Lions   \n",
       "9     Kings XI       335973.0  Supergiants       968721.0     Kings XI   \n",
       "\n",
       "   Winner_team_number     Margin              Ground  Ground_number  \\\n",
       "0            968721.0  9 wickets              Mumbai        58324.0   \n",
       "1            335971.0  9 wickets             Kolkata        57980.0   \n",
       "2            968725.0  5 wickets              Mohali        57991.0   \n",
       "3            335970.0    45 runs           Bengaluru        57897.0   \n",
       "4            335978.0  6 wickets             Kolkata        57980.0   \n",
       "5            968725.0  7 wickets              Rajkot       377285.0   \n",
       "6            335975.0  8 wickets               Delhi        58040.0   \n",
       "7            335971.0  8 wickets  Hyderabad (Deccan)        58142.0   \n",
       "8            968725.0  3 wickets              Mumbai        58324.0   \n",
       "9            335973.0  6 wickets              Mohali        57991.0   \n",
       "\n",
       "     Match Date Scorecard  Match_number Match_Type  \n",
       "0   Apr 9, 2016       T20      980901.0        IPL  \n",
       "1  Apr 10, 2016       T20      980903.0        IPL  \n",
       "2  Apr 11, 2016       T20      980905.0        IPL  \n",
       "3  Apr 12, 2016       T20      980907.0        IPL  \n",
       "4  Apr 13, 2016       T20      980909.0        IPL  \n",
       "5  Apr 14, 2016       T20      980911.0        IPL  \n",
       "6  Apr 15, 2016       T20      980913.0        IPL  \n",
       "7  Apr 16, 2016       T20      980915.0        IPL  \n",
       "8  Apr 16, 2016       T20      980917.0        IPL  \n",
       "9  Apr 17, 2016       T20      980919.0        IPL  "
      ]
     },
     "execution_count": 281,
     "metadata": {},
     "output_type": "execute_result"
    }
   ],
   "source": [
    "# getting the file with all the matches information\n",
    "address = r'C:\\Users\\mohitksoni\\Desktop\\ML-Cricket-Integration-Project\\Data\\INTERNATIONAL_MATCH.csv'\n",
    "\n",
    "data = pd.read_csv(address)\n",
    "data[0:10]"
   ]
  },
  {
   "cell_type": "code",
   "execution_count": 282,
   "metadata": {},
   "outputs": [
    {
     "data": {
      "text/html": [
       "<div>\n",
       "<style scoped>\n",
       "    .dataframe tbody tr th:only-of-type {\n",
       "        vertical-align: middle;\n",
       "    }\n",
       "\n",
       "    .dataframe tbody tr th {\n",
       "        vertical-align: top;\n",
       "    }\n",
       "\n",
       "    .dataframe thead th {\n",
       "        text-align: right;\n",
       "    }\n",
       "</style>\n",
       "<table border=\"1\" class=\"dataframe\">\n",
       "  <thead>\n",
       "    <tr style=\"text-align: right;\">\n",
       "      <th></th>\n",
       "      <th>Team_1</th>\n",
       "      <th>Team_1_number</th>\n",
       "      <th>Team_2</th>\n",
       "      <th>Team_2_number</th>\n",
       "      <th>Winner_team</th>\n",
       "      <th>Winner_team_number</th>\n",
       "      <th>Margin</th>\n",
       "      <th>Ground</th>\n",
       "      <th>Ground_number</th>\n",
       "      <th>Match Date</th>\n",
       "      <th>Scorecard</th>\n",
       "      <th>Match_number</th>\n",
       "      <th>Match_Type</th>\n",
       "    </tr>\n",
       "  </thead>\n",
       "  <tbody>\n",
       "    <tr>\n",
       "      <th>646</th>\n",
       "      <td>India</td>\n",
       "      <td>6.0</td>\n",
       "      <td>Bangladesh</td>\n",
       "      <td>25.0</td>\n",
       "      <td>India</td>\n",
       "      <td>6.0</td>\n",
       "      <td>208 runs</td>\n",
       "      <td>Hyderabad (Deccan)</td>\n",
       "      <td>58142.0</td>\n",
       "      <td>Feb 9-13, 2017</td>\n",
       "      <td>Test # 2249</td>\n",
       "      <td>1041761.0</td>\n",
       "      <td>TEST_MATCH</td>\n",
       "    </tr>\n",
       "    <tr>\n",
       "      <th>647</th>\n",
       "      <td>India</td>\n",
       "      <td>6.0</td>\n",
       "      <td>Australia</td>\n",
       "      <td>2.0</td>\n",
       "      <td>Australia</td>\n",
       "      <td>2.0</td>\n",
       "      <td>333 runs</td>\n",
       "      <td>Pune</td>\n",
       "      <td>545380.0</td>\n",
       "      <td>Feb 23-25, 2017</td>\n",
       "      <td>Test # 2250</td>\n",
       "      <td>1062573.0</td>\n",
       "      <td>TEST_MATCH</td>\n",
       "    </tr>\n",
       "    <tr>\n",
       "      <th>648</th>\n",
       "      <td>India</td>\n",
       "      <td>6.0</td>\n",
       "      <td>Australia</td>\n",
       "      <td>2.0</td>\n",
       "      <td>India</td>\n",
       "      <td>6.0</td>\n",
       "      <td>75 runs</td>\n",
       "      <td>Bengaluru</td>\n",
       "      <td>57897.0</td>\n",
       "      <td>Mar 4-7, 2017</td>\n",
       "      <td>Test # 2251</td>\n",
       "      <td>1062574.0</td>\n",
       "      <td>TEST_MATCH</td>\n",
       "    </tr>\n",
       "    <tr>\n",
       "      <th>653</th>\n",
       "      <td>India</td>\n",
       "      <td>6.0</td>\n",
       "      <td>Australia</td>\n",
       "      <td>2.0</td>\n",
       "      <td>drawn</td>\n",
       "      <td>NaN</td>\n",
       "      <td>NaN</td>\n",
       "      <td>Ranchi</td>\n",
       "      <td>485865.0</td>\n",
       "      <td>Mar 16-20, 2017</td>\n",
       "      <td>Test # 2256</td>\n",
       "      <td>1062575.0</td>\n",
       "      <td>TEST_MATCH</td>\n",
       "    </tr>\n",
       "    <tr>\n",
       "      <th>655</th>\n",
       "      <td>India</td>\n",
       "      <td>6.0</td>\n",
       "      <td>Australia</td>\n",
       "      <td>2.0</td>\n",
       "      <td>India</td>\n",
       "      <td>6.0</td>\n",
       "      <td>8 wickets</td>\n",
       "      <td>Dharamsala</td>\n",
       "      <td>58056.0</td>\n",
       "      <td>Mar 25-28, 2017</td>\n",
       "      <td>Test # 2258</td>\n",
       "      <td>1062576.0</td>\n",
       "      <td>TEST_MATCH</td>\n",
       "    </tr>\n",
       "  </tbody>\n",
       "</table>\n",
       "</div>"
      ],
      "text/plain": [
       "    Team_1  Team_1_number      Team_2  Team_2_number Winner_team  \\\n",
       "646  India            6.0  Bangladesh           25.0       India   \n",
       "647  India            6.0   Australia            2.0   Australia   \n",
       "648  India            6.0   Australia            2.0       India   \n",
       "653  India            6.0   Australia            2.0       drawn   \n",
       "655  India            6.0   Australia            2.0       India   \n",
       "\n",
       "     Winner_team_number     Margin              Ground  Ground_number  \\\n",
       "646                 6.0   208 runs  Hyderabad (Deccan)        58142.0   \n",
       "647                 2.0   333 runs                Pune       545380.0   \n",
       "648                 6.0    75 runs           Bengaluru        57897.0   \n",
       "653                 NaN        NaN              Ranchi       485865.0   \n",
       "655                 6.0  8 wickets          Dharamsala        58056.0   \n",
       "\n",
       "          Match Date    Scorecard  Match_number  Match_Type  \n",
       "646   Feb 9-13, 2017  Test # 2249     1041761.0  TEST_MATCH  \n",
       "647  Feb 23-25, 2017  Test # 2250     1062573.0  TEST_MATCH  \n",
       "648    Mar 4-7, 2017  Test # 2251     1062574.0  TEST_MATCH  \n",
       "653  Mar 16-20, 2017  Test # 2256     1062575.0  TEST_MATCH  \n",
       "655  Mar 25-28, 2017  Test # 2258     1062576.0  TEST_MATCH  "
      ]
     },
     "execution_count": 282,
     "metadata": {},
     "output_type": "execute_result"
    }
   ],
   "source": [
    "# getting all the matches that the Team has played in his dataset\n",
    "team_matches1 = data[data['Team_1'] == TEAM_NAME]\n",
    "team_matches2 = data[data['Team_2'] == TEAM_NAME]\n",
    "\n",
    "# merging the 2 dataframes\n",
    "matches = [team_matches1, team_matches2]\n",
    "team_matches = pd.concat(matches)\n",
    "team_matches.head()"
   ]
  },
  {
   "cell_type": "code",
   "execution_count": 283,
   "metadata": {},
   "outputs": [
    {
     "data": {
      "text/plain": [
       "646    1041761.0\n",
       "647    1062573.0\n",
       "648    1062574.0\n",
       "653    1062575.0\n",
       "655    1062576.0\n",
       "Name: Match_number, dtype: float64"
      ]
     },
     "execution_count": 283,
     "metadata": {},
     "output_type": "execute_result"
    }
   ],
   "source": [
    "# getting the match numbers because that is what we need to find out specific files for specific matches\n",
    "team_match_nums = team_matches['Match_number']\n",
    "team_match_nums.head() # is a Series (not a DataFrame)"
   ]
  },
  {
   "cell_type": "markdown",
   "metadata": {},
   "source": [
    "# Revision of Data"
   ]
  },
  {
   "cell_type": "code",
   "execution_count": 284,
   "metadata": {},
   "outputs": [],
   "source": [
    "# Casting all the match numbers to ints (not floats) so it's easy to work with the numbers\n",
    "team_match_nums = team_match_nums.astype(int)"
   ]
  },
  {
   "cell_type": "code",
   "execution_count": 285,
   "metadata": {},
   "outputs": [],
   "source": [
    "# Removing duplicates if there are any (there are none)\n",
    "team_match_nums = team_match_nums.drop_duplicates()"
   ]
  },
  {
   "cell_type": "code",
   "execution_count": 286,
   "metadata": {},
   "outputs": [],
   "source": [
    "# Removing any N/A values if there are any (there are none)\n",
    "team_match_nums = team_match_nums.dropna()"
   ]
  },
  {
   "cell_type": "code",
   "execution_count": 287,
   "metadata": {},
   "outputs": [],
   "source": [
    "index_specific = team_match_nums[team_match_nums == DROPFILE].index\n",
    "\n",
    "# Removing 1202242 from match numbers because it doesn't have a corresponding match\n",
    "team_match_nums = team_match_nums.drop(index = index_specific)"
   ]
  },
  {
   "cell_type": "code",
   "execution_count": 288,
   "metadata": {},
   "outputs": [
    {
     "data": {
      "text/plain": [
       "Int64Index([  0,   1,   2,   3,   4,   5,   6,   7,   8,   9,\n",
       "            ...\n",
       "            184, 185, 186, 187, 188, 189, 190, 191, 192, 193],\n",
       "           dtype='int64', length=194)"
      ]
     },
     "execution_count": 288,
     "metadata": {},
     "output_type": "execute_result"
    }
   ],
   "source": [
    "# changing the index of team_match_nums Series to start from 0\n",
    "team_match_nums.index = np.arange(len(team_match_nums))\n",
    "team_match_nums.index"
   ]
  },
  {
   "cell_type": "markdown",
   "metadata": {},
   "source": [
    "# Getting All Balls played by Specific Player from Team Matches"
   ]
  },
  {
   "cell_type": "code",
   "execution_count": 289,
   "metadata": {},
   "outputs": [],
   "source": [
    "player_balls = pd.DataFrame()\n",
    "\n",
    "# Looping through the matches\n",
    "# Getting all balls played by the player from each match and appending that to player_balls dataframe\n",
    "for match_num in team_match_nums:\n",
    "    match_address = r'C:\\Users\\mohitksoni\\Desktop\\ML-Cricket-Integration-Project\\Data\\COMMENTARY_INTL_MATCH\\COMMENTARY_INTL_MATCH\\{}_COMMENTARY.csv'.format(match_num)\n",
    "    match = pd.read_csv(match_address)\n",
    "    match_player_balls = match[match['Batsman_name'] == PLAYER_NAME]\n",
    "    player_balls = player_balls.append(match_player_balls)"
   ]
  },
  {
   "cell_type": "code",
   "execution_count": 290,
   "metadata": {},
   "outputs": [],
   "source": [
    "# removing the runouts from the dataframe\n",
    "runout_index = player_balls[player_balls['Dismissal_type'] == 'run out'].index\n",
    "player_balls = player_balls.drop(index = runout_index)"
   ]
  },
  {
   "cell_type": "code",
   "execution_count": 291,
   "metadata": {},
   "outputs": [
    {
     "data": {
      "text/plain": [
       "array(['four', 'no run', 'run', 'leg bye', 'out', 'six', 'wide', 'bye',\n",
       "       'no ball'], dtype=object)"
      ]
     },
     "execution_count": 291,
     "metadata": {},
     "output_type": "execute_result"
    }
   ],
   "source": [
    "player_balls['PlayType_description'].unique()"
   ]
  },
  {
   "cell_type": "code",
   "execution_count": 292,
   "metadata": {},
   "outputs": [
    {
     "data": {
      "text/plain": [
       "array([nan, 'leg before wicket', 'caught', 'bowled', 'stumped'],\n",
       "      dtype=object)"
      ]
     },
     "execution_count": 292,
     "metadata": {},
     "output_type": "execute_result"
    }
   ],
   "source": [
    "# Nan is one unique value because of balls when a person doesn't get out\n",
    "player_balls['Dismissal_type'].unique()"
   ]
  },
  {
   "cell_type": "code",
   "execution_count": 293,
   "metadata": {},
   "outputs": [
    {
     "data": {
      "text/plain": [
       "Int64Index([    0,     1,     2,     3,     4,     5,     6,     7,     8,\n",
       "                9,\n",
       "            ...\n",
       "            11125, 11126, 11127, 11128, 11129, 11130, 11131, 11132, 11133,\n",
       "            11134],\n",
       "           dtype='int64', length=11135)"
      ]
     },
     "execution_count": 293,
     "metadata": {},
     "output_type": "execute_result"
    }
   ],
   "source": [
    "# Changing the index of player_balls so that it sequentially starts from 0\n",
    "player_balls.index = np.arange(len(player_balls))\n",
    "player_balls.index"
   ]
  },
  {
   "cell_type": "markdown",
   "metadata": {},
   "source": [
    "# Separating Wicket and Non-Wicket Data"
   ]
  },
  {
   "cell_type": "code",
   "execution_count": 294,
   "metadata": {},
   "outputs": [
    {
     "data": {
      "text/html": [
       "<div>\n",
       "<style scoped>\n",
       "    .dataframe tbody tr th:only-of-type {\n",
       "        vertical-align: middle;\n",
       "    }\n",
       "\n",
       "    .dataframe tbody tr th {\n",
       "        vertical-align: top;\n",
       "    }\n",
       "\n",
       "    .dataframe thead th {\n",
       "        text-align: right;\n",
       "    }\n",
       "</style>\n",
       "<table border=\"1\" class=\"dataframe\">\n",
       "  <thead>\n",
       "    <tr style=\"text-align: right;\">\n",
       "      <th></th>\n",
       "      <th>PlayType_description</th>\n",
       "      <th>Batting_Team_id</th>\n",
       "      <th>Batting_Team_name</th>\n",
       "      <th>Bowling_Team_id</th>\n",
       "      <th>Bowling_Team_name</th>\n",
       "      <th>Innings</th>\n",
       "      <th>Total_Runs_on_delivery</th>\n",
       "      <th>Commentary</th>\n",
       "      <th>Commentary_short</th>\n",
       "      <th>Score</th>\n",
       "      <th>...</th>\n",
       "      <th>Innings_run_rate</th>\n",
       "      <th>Innings_byes</th>\n",
       "      <th>Innings_balls</th>\n",
       "      <th>Innings_no_balls</th>\n",
       "      <th>Innings_wickets</th>\n",
       "      <th>Innings_leg_byes</th>\n",
       "      <th>Innings_session</th>\n",
       "      <th>Innings_day</th>\n",
       "      <th>Innings_wides</th>\n",
       "      <th>Innings_runs</th>\n",
       "    </tr>\n",
       "  </thead>\n",
       "  <tbody>\n",
       "    <tr>\n",
       "      <th>244</th>\n",
       "      <td>out</td>\n",
       "      <td>6</td>\n",
       "      <td>India</td>\n",
       "      <td>25</td>\n",
       "      <td>Bangladesh</td>\n",
       "      <td>1st innings</td>\n",
       "      <td>0</td>\n",
       "      <td>he's lbw, Kohli walks off. Doesn't bother revi...</td>\n",
       "      <td>Taijul Islam to Kohli, OUT</td>\n",
       "      <td>495/5</td>\n",
       "      <td>...</td>\n",
       "      <td>3.95</td>\n",
       "      <td>0</td>\n",
       "      <td>751</td>\n",
       "      <td>0</td>\n",
       "      <td>5</td>\n",
       "      <td>0</td>\n",
       "      <td>2</td>\n",
       "      <td>2</td>\n",
       "      <td>0</td>\n",
       "      <td>495</td>\n",
       "    </tr>\n",
       "    <tr>\n",
       "      <th>284</th>\n",
       "      <td>out</td>\n",
       "      <td>6</td>\n",
       "      <td>India</td>\n",
       "      <td>25</td>\n",
       "      <td>Bangladesh</td>\n",
       "      <td>3rd innings</td>\n",
       "      <td>0</td>\n",
       "      <td>down the track, and this time he's gone. Gets ...</td>\n",
       "      <td>Shakib Al Hasan to Kohli, OUT</td>\n",
       "      <td>0</td>\n",
       "      <td>...</td>\n",
       "      <td>5.34</td>\n",
       "      <td>0</td>\n",
       "      <td>101</td>\n",
       "      <td>0</td>\n",
       "      <td>3</td>\n",
       "      <td>0</td>\n",
       "      <td>2</td>\n",
       "      <td>4</td>\n",
       "      <td>0</td>\n",
       "      <td>90</td>\n",
       "    </tr>\n",
       "    <tr>\n",
       "      <th>286</th>\n",
       "      <td>out</td>\n",
       "      <td>6</td>\n",
       "      <td>India</td>\n",
       "      <td>2</td>\n",
       "      <td>Australia</td>\n",
       "      <td>2nd innings</td>\n",
       "      <td>0</td>\n",
       "      <td>he's sucked him in! Starc, you beauty. The mos...</td>\n",
       "      <td>Starc to Kohli, OUT</td>\n",
       "      <td>0</td>\n",
       "      <td>...</td>\n",
       "      <td>3.0</td>\n",
       "      <td>0</td>\n",
       "      <td>88</td>\n",
       "      <td>0</td>\n",
       "      <td>3</td>\n",
       "      <td>0</td>\n",
       "      <td>1</td>\n",
       "      <td>2</td>\n",
       "      <td>0</td>\n",
       "      <td>44</td>\n",
       "    </tr>\n",
       "    <tr>\n",
       "      <th>323</th>\n",
       "      <td>out</td>\n",
       "      <td>6</td>\n",
       "      <td>India</td>\n",
       "      <td>2</td>\n",
       "      <td>Australia</td>\n",
       "      <td>4th innings</td>\n",
       "      <td>0</td>\n",
       "      <td>bowled 'im. Kohli has left a straight one. Was...</td>\n",
       "      <td>O'Keefe to Kohli, OUT</td>\n",
       "      <td>0</td>\n",
       "      <td>...</td>\n",
       "      <td>2.87</td>\n",
       "      <td>0</td>\n",
       "      <td>98</td>\n",
       "      <td>0</td>\n",
       "      <td>3</td>\n",
       "      <td>0</td>\n",
       "      <td>2</td>\n",
       "      <td>3</td>\n",
       "      <td>0</td>\n",
       "      <td>47</td>\n",
       "    </tr>\n",
       "    <tr>\n",
       "      <th>339</th>\n",
       "      <td>out</td>\n",
       "      <td>6</td>\n",
       "      <td>India</td>\n",
       "      <td>2</td>\n",
       "      <td>Australia</td>\n",
       "      <td>1st innings</td>\n",
       "      <td>0</td>\n",
       "      <td>what has Kohli done here? Out twice in a row w...</td>\n",
       "      <td>Lyon to Kohli, OUT</td>\n",
       "      <td>88/3</td>\n",
       "      <td>...</td>\n",
       "      <td>2.6</td>\n",
       "      <td>0</td>\n",
       "      <td>203</td>\n",
       "      <td>0</td>\n",
       "      <td>3</td>\n",
       "      <td>0</td>\n",
       "      <td>2</td>\n",
       "      <td>1</td>\n",
       "      <td>0</td>\n",
       "      <td>88</td>\n",
       "    </tr>\n",
       "  </tbody>\n",
       "</table>\n",
       "<p>5 rows × 60 columns</p>\n",
       "</div>"
      ],
      "text/plain": [
       "    PlayType_description  Batting_Team_id Batting_Team_name Bowling_Team_id  \\\n",
       "244                  out                6             India              25   \n",
       "284                  out                6             India              25   \n",
       "286                  out                6             India               2   \n",
       "323                  out                6             India               2   \n",
       "339                  out                6             India               2   \n",
       "\n",
       "    Bowling_Team_name      Innings  Total_Runs_on_delivery  \\\n",
       "244        Bangladesh  1st innings                       0   \n",
       "284        Bangladesh  3rd innings                       0   \n",
       "286         Australia  2nd innings                       0   \n",
       "323         Australia  4th innings                       0   \n",
       "339         Australia  1st innings                       0   \n",
       "\n",
       "                                            Commentary  \\\n",
       "244  he's lbw, Kohli walks off. Doesn't bother revi...   \n",
       "284  down the track, and this time he's gone. Gets ...   \n",
       "286  he's sucked him in! Starc, you beauty. The mos...   \n",
       "323  bowled 'im. Kohli has left a straight one. Was...   \n",
       "339  what has Kohli done here? Out twice in a row w...   \n",
       "\n",
       "                  Commentary_short  Score  ... Innings_run_rate Innings_byes  \\\n",
       "244     Taijul Islam to Kohli, OUT  495/5  ...             3.95            0   \n",
       "284  Shakib Al Hasan to Kohli, OUT      0  ...             5.34            0   \n",
       "286            Starc to Kohli, OUT      0  ...              3.0            0   \n",
       "323          O'Keefe to Kohli, OUT      0  ...             2.87            0   \n",
       "339             Lyon to Kohli, OUT   88/3  ...              2.6            0   \n",
       "\n",
       "     Innings_balls  Innings_no_balls  Innings_wickets  Innings_leg_byes  \\\n",
       "244            751                 0                5                 0   \n",
       "284            101                 0                3                 0   \n",
       "286             88                 0                3                 0   \n",
       "323             98                 0                3                 0   \n",
       "339            203                 0                3                 0   \n",
       "\n",
       "     Innings_session Innings_day Innings_wides  Innings_runs  \n",
       "244                2           2             0           495  \n",
       "284                2           4             0            90  \n",
       "286                1           2             0            44  \n",
       "323                2           3             0            47  \n",
       "339                2           1             0            88  \n",
       "\n",
       "[5 rows x 60 columns]"
      ]
     },
     "execution_count": 294,
     "metadata": {},
     "output_type": "execute_result"
    }
   ],
   "source": [
    "# Wicket data\n",
    "# Length = 148\n",
    "player_wicket = player_balls[player_balls['PlayType_description'] == 'out']\n",
    "player_wicket.head()"
   ]
  },
  {
   "cell_type": "code",
   "execution_count": 295,
   "metadata": {},
   "outputs": [
    {
     "data": {
      "text/html": [
       "<div>\n",
       "<style scoped>\n",
       "    .dataframe tbody tr th:only-of-type {\n",
       "        vertical-align: middle;\n",
       "    }\n",
       "\n",
       "    .dataframe tbody tr th {\n",
       "        vertical-align: top;\n",
       "    }\n",
       "\n",
       "    .dataframe thead th {\n",
       "        text-align: right;\n",
       "    }\n",
       "</style>\n",
       "<table border=\"1\" class=\"dataframe\">\n",
       "  <thead>\n",
       "    <tr style=\"text-align: right;\">\n",
       "      <th></th>\n",
       "      <th>PlayType_description</th>\n",
       "      <th>Batting_Team_id</th>\n",
       "      <th>Batting_Team_name</th>\n",
       "      <th>Bowling_Team_id</th>\n",
       "      <th>Bowling_Team_name</th>\n",
       "      <th>Innings</th>\n",
       "      <th>Total_Runs_on_delivery</th>\n",
       "      <th>Commentary</th>\n",
       "      <th>Commentary_short</th>\n",
       "      <th>Score</th>\n",
       "      <th>...</th>\n",
       "      <th>Innings_run_rate</th>\n",
       "      <th>Innings_byes</th>\n",
       "      <th>Innings_balls</th>\n",
       "      <th>Innings_no_balls</th>\n",
       "      <th>Innings_wickets</th>\n",
       "      <th>Innings_leg_byes</th>\n",
       "      <th>Innings_session</th>\n",
       "      <th>Innings_day</th>\n",
       "      <th>Innings_wides</th>\n",
       "      <th>Innings_runs</th>\n",
       "    </tr>\n",
       "  </thead>\n",
       "  <tbody>\n",
       "    <tr>\n",
       "      <th>0</th>\n",
       "      <td>four</td>\n",
       "      <td>6</td>\n",
       "      <td>India</td>\n",
       "      <td>25</td>\n",
       "      <td>Bangladesh</td>\n",
       "      <td>1st innings</td>\n",
       "      <td>4</td>\n",
       "      <td>a gift to the Indian captain for his hospitali...</td>\n",
       "      <td>Mehidy Hasan Miraz to Kohli, FOUR runs</td>\n",
       "      <td>184/2</td>\n",
       "      <td>...</td>\n",
       "      <td>3.6</td>\n",
       "      <td>0</td>\n",
       "      <td>306</td>\n",
       "      <td>0</td>\n",
       "      <td>2</td>\n",
       "      <td>0</td>\n",
       "      <td>2</td>\n",
       "      <td>1</td>\n",
       "      <td>0</td>\n",
       "      <td>184</td>\n",
       "    </tr>\n",
       "    <tr>\n",
       "      <th>1</th>\n",
       "      <td>no run</td>\n",
       "      <td>6</td>\n",
       "      <td>India</td>\n",
       "      <td>25</td>\n",
       "      <td>Bangladesh</td>\n",
       "      <td>1st innings</td>\n",
       "      <td>0</td>\n",
       "      <td>fuller delivery on middle and off, Kohli gets ...</td>\n",
       "      <td>Taskin Ahmed to Kohli, no run</td>\n",
       "      <td>189/2</td>\n",
       "      <td>...</td>\n",
       "      <td>3.66</td>\n",
       "      <td>0</td>\n",
       "      <td>309</td>\n",
       "      <td>0</td>\n",
       "      <td>2</td>\n",
       "      <td>0</td>\n",
       "      <td>2</td>\n",
       "      <td>1</td>\n",
       "      <td>0</td>\n",
       "      <td>189</td>\n",
       "    </tr>\n",
       "    <tr>\n",
       "      <th>2</th>\n",
       "      <td>four</td>\n",
       "      <td>6</td>\n",
       "      <td>India</td>\n",
       "      <td>25</td>\n",
       "      <td>Bangladesh</td>\n",
       "      <td>1st innings</td>\n",
       "      <td>4</td>\n",
       "      <td>clatters it past the bowler's left. Not entire...</td>\n",
       "      <td>Taskin Ahmed to Kohli, FOUR runs</td>\n",
       "      <td>193/2</td>\n",
       "      <td>...</td>\n",
       "      <td>3.73</td>\n",
       "      <td>0</td>\n",
       "      <td>310</td>\n",
       "      <td>0</td>\n",
       "      <td>2</td>\n",
       "      <td>0</td>\n",
       "      <td>2</td>\n",
       "      <td>1</td>\n",
       "      <td>0</td>\n",
       "      <td>193</td>\n",
       "    </tr>\n",
       "    <tr>\n",
       "      <th>3</th>\n",
       "      <td>no run</td>\n",
       "      <td>6</td>\n",
       "      <td>India</td>\n",
       "      <td>25</td>\n",
       "      <td>Bangladesh</td>\n",
       "      <td>1st innings</td>\n",
       "      <td>0</td>\n",
       "      <td>good length ball outside off, lunges forward t...</td>\n",
       "      <td>Taskin Ahmed to Kohli, no run</td>\n",
       "      <td>193/2</td>\n",
       "      <td>...</td>\n",
       "      <td>3.72</td>\n",
       "      <td>0</td>\n",
       "      <td>311</td>\n",
       "      <td>0</td>\n",
       "      <td>2</td>\n",
       "      <td>0</td>\n",
       "      <td>2</td>\n",
       "      <td>1</td>\n",
       "      <td>0</td>\n",
       "      <td>193</td>\n",
       "    </tr>\n",
       "    <tr>\n",
       "      <th>4</th>\n",
       "      <td>no run</td>\n",
       "      <td>6</td>\n",
       "      <td>India</td>\n",
       "      <td>25</td>\n",
       "      <td>Bangladesh</td>\n",
       "      <td>1st innings</td>\n",
       "      <td>0</td>\n",
       "      <td>back of a length on off stump, Kohli covers th...</td>\n",
       "      <td>Taskin Ahmed to Kohli, no run</td>\n",
       "      <td>193/2</td>\n",
       "      <td>...</td>\n",
       "      <td>3.71</td>\n",
       "      <td>0</td>\n",
       "      <td>312</td>\n",
       "      <td>0</td>\n",
       "      <td>2</td>\n",
       "      <td>0</td>\n",
       "      <td>2</td>\n",
       "      <td>1</td>\n",
       "      <td>0</td>\n",
       "      <td>193</td>\n",
       "    </tr>\n",
       "  </tbody>\n",
       "</table>\n",
       "<p>5 rows × 60 columns</p>\n",
       "</div>"
      ],
      "text/plain": [
       "  PlayType_description  Batting_Team_id Batting_Team_name Bowling_Team_id  \\\n",
       "0                 four                6             India              25   \n",
       "1               no run                6             India              25   \n",
       "2                 four                6             India              25   \n",
       "3               no run                6             India              25   \n",
       "4               no run                6             India              25   \n",
       "\n",
       "  Bowling_Team_name      Innings  Total_Runs_on_delivery  \\\n",
       "0        Bangladesh  1st innings                       4   \n",
       "1        Bangladesh  1st innings                       0   \n",
       "2        Bangladesh  1st innings                       4   \n",
       "3        Bangladesh  1st innings                       0   \n",
       "4        Bangladesh  1st innings                       0   \n",
       "\n",
       "                                          Commentary  \\\n",
       "0  a gift to the Indian captain for his hospitali...   \n",
       "1  fuller delivery on middle and off, Kohli gets ...   \n",
       "2  clatters it past the bowler's left. Not entire...   \n",
       "3  good length ball outside off, lunges forward t...   \n",
       "4  back of a length on off stump, Kohli covers th...   \n",
       "\n",
       "                         Commentary_short  Score  ... Innings_run_rate  \\\n",
       "0  Mehidy Hasan Miraz to Kohli, FOUR runs  184/2  ...              3.6   \n",
       "1           Taskin Ahmed to Kohli, no run  189/2  ...             3.66   \n",
       "2        Taskin Ahmed to Kohli, FOUR runs  193/2  ...             3.73   \n",
       "3           Taskin Ahmed to Kohli, no run  193/2  ...             3.72   \n",
       "4           Taskin Ahmed to Kohli, no run  193/2  ...             3.71   \n",
       "\n",
       "  Innings_byes  Innings_balls  Innings_no_balls  Innings_wickets  \\\n",
       "0            0            306                 0                2   \n",
       "1            0            309                 0                2   \n",
       "2            0            310                 0                2   \n",
       "3            0            311                 0                2   \n",
       "4            0            312                 0                2   \n",
       "\n",
       "   Innings_leg_byes  Innings_session Innings_day Innings_wides  Innings_runs  \n",
       "0                 0                2           1             0           184  \n",
       "1                 0                2           1             0           189  \n",
       "2                 0                2           1             0           193  \n",
       "3                 0                2           1             0           193  \n",
       "4                 0                2           1             0           193  \n",
       "\n",
       "[5 rows x 60 columns]"
      ]
     },
     "execution_count": 295,
     "metadata": {},
     "output_type": "execute_result"
    }
   ],
   "source": [
    "# Non-wicket data\n",
    "player_nonwicket = player_balls[player_balls['PlayType_description'] != 'out']\n",
    "player_nonwicket.head()"
   ]
  },
  {
   "cell_type": "code",
   "execution_count": 296,
   "metadata": {},
   "outputs": [
    {
     "data": {
      "text/plain": [
       "Int64Index([  0,   1,   2,   3,   4,   5,   6,   7,   8,   9,\n",
       "            ...\n",
       "            138, 139, 140, 141, 142, 143, 144, 145, 146, 147],\n",
       "           dtype='int64', length=148)"
      ]
     },
     "execution_count": 296,
     "metadata": {},
     "output_type": "execute_result"
    }
   ],
   "source": [
    "# Changing the index of  player_wicket so it starts from 0\n",
    "player_wicket.index = np.arange(len(player_wicket))\n",
    "player_wicket.index"
   ]
  },
  {
   "cell_type": "code",
   "execution_count": 297,
   "metadata": {},
   "outputs": [
    {
     "data": {
      "text/plain": [
       "Int64Index([    0,     1,     2,     3,     4,     5,     6,     7,     8,\n",
       "                9,\n",
       "            ...\n",
       "            10977, 10978, 10979, 10980, 10981, 10982, 10983, 10984, 10985,\n",
       "            10986],\n",
       "           dtype='int64', length=10987)"
      ]
     },
     "execution_count": 297,
     "metadata": {},
     "output_type": "execute_result"
    }
   ],
   "source": [
    "# Changing the index of  player_nonwicket so it starts from 0\n",
    "player_nonwicket.index = np.arange(len(player_nonwicket))\n",
    "player_nonwicket.index"
   ]
  },
  {
   "cell_type": "markdown",
   "metadata": {},
   "source": [
    "# Data Exploration"
   ]
  },
  {
   "cell_type": "code",
   "execution_count": 298,
   "metadata": {},
   "outputs": [
    {
     "data": {
      "text/plain": [
       "<AxesSubplot:xlabel='Batsman_runs', ylabel='Bowling_Team_name'>"
      ]
     },
     "execution_count": 298,
     "metadata": {},
     "output_type": "execute_result"
    },
    {
     "data": {
      "image/png": "[encoded data removed]",
      "text/plain": [
       "<Figure size 432x288 with 1 Axes>"
      ]
     },
     "metadata": {},
     "output_type": "display_data"
    }
   ],
   "source": [
    "sb.barplot(x = 'Batsman_runs', y = 'Bowling_Team_name', data = player_balls)"
   ]
  },
  {
   "cell_type": "code",
   "execution_count": 299,
   "metadata": {},
   "outputs": [
    {
     "data": {
      "text/plain": [
       "<AxesSubplot:xlabel='Dismissal_type', ylabel='Batsman_runs'>"
      ]
     },
     "execution_count": 299,
     "metadata": {},
     "output_type": "execute_result"
    },
    {
     "data": {
      "image/png": "[encoded data removed]",
      "text/plain": [
       "<Figure size 432x288 with 1 Axes>"
      ]
     },
     "metadata": {},
     "output_type": "display_data"
    }
   ],
   "source": [
    "sb.barplot(x = 'Dismissal_type', y = 'Batsman_runs', data = player_balls)"
   ]
  },
  {
   "cell_type": "code",
   "execution_count": 300,
   "metadata": {},
   "outputs": [
    {
     "data": {
      "text/plain": [
       "<AxesSubplot:xlabel='Innings_runs', ylabel='Batsman_runs'>"
      ]
     },
     "execution_count": 300,
     "metadata": {},
     "output_type": "execute_result"
    },
    {
     "data": {
      "image/png": "[encoded data removed]",
      "text/plain": [
       "<Figure size 432x288 with 1 Axes>"
      ]
     },
     "metadata": {},
     "output_type": "display_data"
    }
   ],
   "source": [
    "sb.scatterplot(x = 'Innings_runs', y = 'Batsman_runs', data = player_balls)"
   ]
  },
  {
   "cell_type": "code",
   "execution_count": 301,
   "metadata": {},
   "outputs": [
    {
     "data": {
      "text/plain": [
       "<AxesSubplot:xlabel='Batsman_runs'>"
      ]
     },
     "execution_count": 301,
     "metadata": {},
     "output_type": "execute_result"
    },
    {
     "data": {
      "image/png": "[encoded data removed]",
      "text/plain": [
       "<Figure size 432x288 with 1 Axes>"
      ]
     },
     "metadata": {},
     "output_type": "display_data"
    }
   ],
   "source": [
    "sb.boxplot(x = 'Batsman_runs', data = player_wicket)"
   ]
  },
  {
   "cell_type": "markdown",
   "metadata": {},
   "source": [
    "# Retrieving Features"
   ]
  },
  {
   "cell_type": "code",
   "execution_count": 302,
   "metadata": {},
   "outputs": [],
   "source": [
    "# NOTE: Commentary is missing sometimes\n",
    "\n",
    "# Features I would like to get: \n",
    "#   - Line of the Ball\n",
    "#   - Length of the Ball\n",
    "#   - Speed of the Ball\n",
    "#   - Turn/swing of the ball\n",
    "#   - How the person got out\n",
    "#   - If he got out caught, where did he get out"
   ]
  },
  {
   "cell_type": "code",
   "execution_count": 326,
   "metadata": {},
   "outputs": [
    {
     "name": "stdout",
     "output_type": "stream",
     "text": [
      "full and wide outside off, kohli resists the temptation\n",
      "Line: Wide\n",
      "Length: Full\n",
      "Location: N/A\n",
      "Speed: N/A\n",
      "Bounce: N/A\n",
      "\n",
      "bouncer, aimed at the batsman's badge, kohli swivels on his back foot and pulls to long leg. rolls his wrists to keep the ball down. not entirely well timed, but the intentions were good\n",
      "Line: Middle stump\n",
      "Length: Short\n",
      "Location: Long Leg\n",
      "Speed: N/A\n",
      "Bounce: N/A\n",
      "\n",
      "brings kohli forward with a good length ball on off stump, clips it to midwicket\n",
      "Line: Off stump\n",
      "Length: Good\n",
      "Location: Midwicket\n",
      "Speed: N/A\n",
      "Bounce: N/A\n",
      "\n"
     ]
    }
   ],
   "source": [
    "def extractLine(comm):\n",
    "    if (comm.__contains__('middle stump')): print('Line: Middle Stump')\n",
    "    elif (comm.__contains__('leg stump')): print('Line: Leg stump')\n",
    "    elif (comm.__contains__('off stump')): print('Line: Off stump')\n",
    "    elif (comm.__contains__('middle and off')): print('Line: Middle & Off')\n",
    "    elif (comm.__contains__('aimed at the batsman')): print('Line: Middle stump')\n",
    "\n",
    "    elif (comm.__contains__('wide')): print('Line: Wide')\n",
    "    elif (comm.__contains__('straight')): print('Line: Middle stump')\n",
    "    elif (comm.__contains__('outside off')): print('Line: Off')\n",
    "    elif (comm.__contains__('middle')): print('Line: Middle stump')\n",
    "    elif (comm.__contains__(' off ')): print('Line: Off')\n",
    "    else: print('Line: N/A')\n",
    "\n",
    "def extractLength(comm):\n",
    "    if (comm.__contains__('full length')): print('Length: Full')\n",
    "    elif (comm.__contains__('half-volley')): print('Length: Full')\n",
    "    elif (comm.__contains__('short length')): print('Length: Short')\n",
    "    elif (comm.__contains__('good length')): print('Length: Good')\n",
    "    elif (comm.__contains__('tossed up')): print('Length: Full')\n",
    "    elif (comm.__contains__('tosses it up')): print('Length: Full')\n",
    "    elif (comm.__contains__('flighted')): print('Length: Full')\n",
    "    elif (comm.__contains__('bouncer')): print('Length: Short')\n",
    "\n",
    "    elif (comm.__contains__('back of a length')): print('Length: Back of a Length')\n",
    "    elif (comm.__contains__('full')): print('Length: Full')\n",
    "    elif (comm.__contains__('short')): print('Length: Short')\n",
    "    elif (comm.__contains__('good')): print('Length: Good')\n",
    "    elif (comm.__contains__('drive')): print('Length: Full')\n",
    "    elif (comm.__contains__('moves back')): print('Length: Short')\n",
    "\n",
    "    elif (comm.__contains__('length')): print('Length: Good')\n",
    "    else: print('Length: N/A')\n",
    "\n",
    "def extractLocation(comm):\n",
    "    if (comm.__contains__('deep midwicket')): print('Location: Deep Midwicket')\n",
    "    elif (comm.__contains__('midwicket')): print('Location: Midwicket')\n",
    "    elif (comm.__contains__('first slip')): print('Location: First slip')\n",
    "    elif (comm.__contains__('second slip')): print('Location: Second slip')\n",
    "    elif (comm.__contains__('gully')): print('Location: Gully')\n",
    "    elif (comm.__contains__('short fine leg')): print('Location: Short Fine Leg')\n",
    "    elif (comm.__contains__('fine leg')): print('Location: Fine Leg')\n",
    "    elif (comm.__contains__('deep point')): print('Location: Deep Point')\n",
    "    elif (comm.__contains__('point')): print('Location: Point')\n",
    "    elif (comm.__contains__('long-off')): print('Location: Long-off')\n",
    "    elif (comm.__contains__('mid-on')): print('Location: Mid-On')\n",
    "    elif (comm.__contains__('mid-off')): print('Location: Mid-Off')\n",
    "    elif (comm.__contains__('cover')): print('Location: Cover')\n",
    "    elif (comm.__contains__('sweeper')): print('Location: Sweeper')\n",
    "    elif (comm.__contains__('deep square leg')): print('Location: Deep Square Leg')\n",
    "    elif (comm.__contains__('square leg')): print('Location: Square Leg')\n",
    "    elif (comm.__contains__('short third man')): print('Location: Short Third Man')\n",
    "    elif (comm.__contains__('third man')): print('Location: Third Man')\n",
    "    elif (comm.__contains__('long leg')): print('Location: Long Leg')\n",
    "    \n",
    "    elif (comm.__contains__('wicketkeeper')): print('Location: Wicketkeeper')\n",
    "    elif (comm.__contains__('no shot offered')): print('Location: Wicketkeeper')\n",
    "    elif (comm.__contains__('leave')): print('Location: Wicketkeeper')\n",
    "    elif (comm.__contains__('left')): print('Location: Wicketkeeper')\n",
    "\n",
    "    elif (comm.__contains__('defend')): print('Location: Close')\n",
    "    elif (comm.__contains__('blocks')): print('Location: Close')\n",
    "    else: print('Location: N/A')\n",
    "\n",
    "def extractSpeed(comm):\n",
    "    #### Speed of Ball\n",
    "    # Get the bowler and find out their average speed based on another database\n",
    "    # If \"quicker\" is in the commentary, add some amount to the speed\n",
    "    # If \"slower\" is in the commentary, subtract some amount from the speed\n",
    "    print('Speed: N/A')\n",
    "\n",
    "def extractBounce(comm):\n",
    "    if (comm.__contains__('keeps low')): print('Bounce: Low')\n",
    "    else: print('Bounce: N/A')\n",
    "\n",
    "def extractInfo(comm):\n",
    "    extractLine(comm)\n",
    "    extractLength(comm)\n",
    "    extractLocation(comm)\n",
    "    extractSpeed(comm)\n",
    "    extractBounce(comm)\n",
    "\n",
    "for i in range(16, 19):\n",
    "    comm = player_balls['Commentary'][i].lower()\n",
    "    print(comm)\n",
    "    extractInfo(comm)\n",
    "    print()"
   ]
  },
  {
   "cell_type": "code",
   "execution_count": null,
   "metadata": {},
   "outputs": [],
   "source": []
  }
 ],
 "metadata": {
  "interpreter": {
   "hash": "f0e01f4aded63425fcc21ad83e9e272a48ab701b56b1ec5020c88d8f12f3e69f"
  },
  "kernelspec": {
   "display_name": "Python 3.9.7 ('base')",
   "language": "python",
   "name": "python3"
  },
  "language_info": {
   "codemirror_mode": {
    "name": "ipython",
    "version": 3
   },
   "file_extension": ".py",
   "mimetype": "text/x-python",
   "name": "python",
   "nbconvert_exporter": "python",
   "pygments_lexer": "ipython3",
   "version": "3.9.7"
  },
  "orig_nbformat": 4
 },
 "nbformat": 4,
 "nbformat_minor": 2
}
