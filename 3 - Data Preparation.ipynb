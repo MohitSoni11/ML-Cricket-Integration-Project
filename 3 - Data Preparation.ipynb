{
 "cells": [
  {
   "cell_type": "markdown",
   "metadata": {},
   "source": [
    "# Imports"
   ]
  },
  {
   "cell_type": "code",
   "execution_count": 445,
   "metadata": {},
   "outputs": [],
   "source": [
    "import pandas as pd\n",
    "import numpy as np\n",
    "\n",
    "from pandas.plotting import scatter_matrix\n",
    "\n",
    "import matplotlib.pyplot as plt\n",
    "from pylab import rcParams"
   ]
  },
  {
   "cell_type": "code",
   "execution_count": 446,
   "metadata": {},
   "outputs": [],
   "source": [
    "%matplotlib inline\n",
    "rcParams['figure.figsize'] = 5, 4"
   ]
  },
  {
   "cell_type": "code",
   "execution_count": 447,
   "metadata": {},
   "outputs": [],
   "source": [
    "import seaborn as sb\n",
    "sb.set_style('whitegrid')"
   ]
  },
  {
   "cell_type": "markdown",
   "metadata": {},
   "source": [
    "# Getting Dataframe"
   ]
  },
  {
   "cell_type": "code",
   "execution_count": 448,
   "metadata": {},
   "outputs": [],
   "source": [
    "path = r'C:\\Users\\Mohit\\Desktop\\ML-Cricket-Integration-Project\\Data\\Engineered_Balls_Data.csv'\n",
    "balls_info = pd.read_csv(path)"
   ]
  },
  {
   "cell_type": "code",
   "execution_count": 449,
   "metadata": {},
   "outputs": [
    {
     "data": {
      "text/html": [
       "<div>\n",
       "<style scoped>\n",
       "    .dataframe tbody tr th:only-of-type {\n",
       "        vertical-align: middle;\n",
       "    }\n",
       "\n",
       "    .dataframe tbody tr th {\n",
       "        vertical-align: top;\n",
       "    }\n",
       "\n",
       "    .dataframe thead th {\n",
       "        text-align: right;\n",
       "    }\n",
       "</style>\n",
       "<table border=\"1\" class=\"dataframe\">\n",
       "  <thead>\n",
       "    <tr style=\"text-align: right;\">\n",
       "      <th></th>\n",
       "      <th>Unnamed: 0</th>\n",
       "      <th>Format</th>\n",
       "      <th>Game Location</th>\n",
       "      <th>Line</th>\n",
       "      <th>Length</th>\n",
       "      <th>Location</th>\n",
       "      <th>Speed</th>\n",
       "      <th>Bowling Style</th>\n",
       "      <th>Bounce</th>\n",
       "      <th>Out</th>\n",
       "    </tr>\n",
       "  </thead>\n",
       "  <tbody>\n",
       "    <tr>\n",
       "      <th>0</th>\n",
       "      <td>0</td>\n",
       "      <td>Test</td>\n",
       "      <td>Hyderabad (Deccan)</td>\n",
       "      <td>Wide Outside Off</td>\n",
       "      <td>Short</td>\n",
       "      <td>Point</td>\n",
       "      <td>70</td>\n",
       "      <td>Right arm Offbreak</td>\n",
       "      <td>Normal</td>\n",
       "      <td>0</td>\n",
       "    </tr>\n",
       "    <tr>\n",
       "      <th>1</th>\n",
       "      <td>1</td>\n",
       "      <td>Test</td>\n",
       "      <td>Hyderabad (Deccan)</td>\n",
       "      <td>Middle Stump</td>\n",
       "      <td>Full</td>\n",
       "      <td>Midwicket</td>\n",
       "      <td>141</td>\n",
       "      <td>Right-arm fast</td>\n",
       "      <td>Normal</td>\n",
       "      <td>0</td>\n",
       "    </tr>\n",
       "    <tr>\n",
       "      <th>2</th>\n",
       "      <td>2</td>\n",
       "      <td>Test</td>\n",
       "      <td>Hyderabad (Deccan)</td>\n",
       "      <td>Middle Stump</td>\n",
       "      <td>Full</td>\n",
       "      <td>Long-off</td>\n",
       "      <td>144</td>\n",
       "      <td>Right-arm fast</td>\n",
       "      <td>Normal</td>\n",
       "      <td>0</td>\n",
       "    </tr>\n",
       "    <tr>\n",
       "      <th>3</th>\n",
       "      <td>3</td>\n",
       "      <td>Test</td>\n",
       "      <td>Hyderabad (Deccan)</td>\n",
       "      <td>Offside</td>\n",
       "      <td>Good</td>\n",
       "      <td>Wicketkeeper</td>\n",
       "      <td>147</td>\n",
       "      <td>Right-arm fast</td>\n",
       "      <td>Normal</td>\n",
       "      <td>0</td>\n",
       "    </tr>\n",
       "    <tr>\n",
       "      <th>4</th>\n",
       "      <td>4</td>\n",
       "      <td>Test</td>\n",
       "      <td>Hyderabad (Deccan)</td>\n",
       "      <td>Off Stump</td>\n",
       "      <td>Back of a Length</td>\n",
       "      <td>Covers</td>\n",
       "      <td>148</td>\n",
       "      <td>Right-arm fast</td>\n",
       "      <td>Low</td>\n",
       "      <td>0</td>\n",
       "    </tr>\n",
       "  </tbody>\n",
       "</table>\n",
       "</div>"
      ],
      "text/plain": [
       "   Unnamed: 0 Format       Game Location              Line            Length  \\\n",
       "0           0   Test  Hyderabad (Deccan)  Wide Outside Off             Short   \n",
       "1           1   Test  Hyderabad (Deccan)      Middle Stump              Full   \n",
       "2           2   Test  Hyderabad (Deccan)      Middle Stump              Full   \n",
       "3           3   Test  Hyderabad (Deccan)           Offside              Good   \n",
       "4           4   Test  Hyderabad (Deccan)         Off Stump  Back of a Length   \n",
       "\n",
       "       Location  Speed       Bowling Style  Bounce  Out  \n",
       "0         Point     70  Right arm Offbreak  Normal    0  \n",
       "1     Midwicket    141      Right-arm fast  Normal    0  \n",
       "2      Long-off    144      Right-arm fast  Normal    0  \n",
       "3  Wicketkeeper    147      Right-arm fast  Normal    0  \n",
       "4        Covers    148      Right-arm fast     Low    0  "
      ]
     },
     "execution_count": 449,
     "metadata": {},
     "output_type": "execute_result"
    }
   ],
   "source": [
    "balls_info.head()"
   ]
  },
  {
   "cell_type": "code",
   "execution_count": 450,
   "metadata": {},
   "outputs": [
    {
     "data": {
      "text/html": [
       "<div>\n",
       "<style scoped>\n",
       "    .dataframe tbody tr th:only-of-type {\n",
       "        vertical-align: middle;\n",
       "    }\n",
       "\n",
       "    .dataframe tbody tr th {\n",
       "        vertical-align: top;\n",
       "    }\n",
       "\n",
       "    .dataframe thead th {\n",
       "        text-align: right;\n",
       "    }\n",
       "</style>\n",
       "<table border=\"1\" class=\"dataframe\">\n",
       "  <thead>\n",
       "    <tr style=\"text-align: right;\">\n",
       "      <th></th>\n",
       "      <th>Format</th>\n",
       "      <th>Game Location</th>\n",
       "      <th>Line</th>\n",
       "      <th>Length</th>\n",
       "      <th>Location</th>\n",
       "      <th>Speed</th>\n",
       "      <th>Bowling Style</th>\n",
       "      <th>Bounce</th>\n",
       "      <th>Out</th>\n",
       "    </tr>\n",
       "  </thead>\n",
       "  <tbody>\n",
       "    <tr>\n",
       "      <th>0</th>\n",
       "      <td>Test</td>\n",
       "      <td>Hyderabad (Deccan)</td>\n",
       "      <td>Wide Outside Off</td>\n",
       "      <td>Short</td>\n",
       "      <td>Point</td>\n",
       "      <td>70</td>\n",
       "      <td>Right arm Offbreak</td>\n",
       "      <td>Normal</td>\n",
       "      <td>0</td>\n",
       "    </tr>\n",
       "    <tr>\n",
       "      <th>1</th>\n",
       "      <td>Test</td>\n",
       "      <td>Hyderabad (Deccan)</td>\n",
       "      <td>Middle Stump</td>\n",
       "      <td>Full</td>\n",
       "      <td>Midwicket</td>\n",
       "      <td>141</td>\n",
       "      <td>Right-arm fast</td>\n",
       "      <td>Normal</td>\n",
       "      <td>0</td>\n",
       "    </tr>\n",
       "    <tr>\n",
       "      <th>2</th>\n",
       "      <td>Test</td>\n",
       "      <td>Hyderabad (Deccan)</td>\n",
       "      <td>Middle Stump</td>\n",
       "      <td>Full</td>\n",
       "      <td>Long-off</td>\n",
       "      <td>144</td>\n",
       "      <td>Right-arm fast</td>\n",
       "      <td>Normal</td>\n",
       "      <td>0</td>\n",
       "    </tr>\n",
       "    <tr>\n",
       "      <th>3</th>\n",
       "      <td>Test</td>\n",
       "      <td>Hyderabad (Deccan)</td>\n",
       "      <td>Offside</td>\n",
       "      <td>Good</td>\n",
       "      <td>Wicketkeeper</td>\n",
       "      <td>147</td>\n",
       "      <td>Right-arm fast</td>\n",
       "      <td>Normal</td>\n",
       "      <td>0</td>\n",
       "    </tr>\n",
       "    <tr>\n",
       "      <th>4</th>\n",
       "      <td>Test</td>\n",
       "      <td>Hyderabad (Deccan)</td>\n",
       "      <td>Off Stump</td>\n",
       "      <td>Back of a Length</td>\n",
       "      <td>Covers</td>\n",
       "      <td>148</td>\n",
       "      <td>Right-arm fast</td>\n",
       "      <td>Low</td>\n",
       "      <td>0</td>\n",
       "    </tr>\n",
       "  </tbody>\n",
       "</table>\n",
       "</div>"
      ],
      "text/plain": [
       "  Format       Game Location              Line            Length  \\\n",
       "0   Test  Hyderabad (Deccan)  Wide Outside Off             Short   \n",
       "1   Test  Hyderabad (Deccan)      Middle Stump              Full   \n",
       "2   Test  Hyderabad (Deccan)      Middle Stump              Full   \n",
       "3   Test  Hyderabad (Deccan)           Offside              Good   \n",
       "4   Test  Hyderabad (Deccan)         Off Stump  Back of a Length   \n",
       "\n",
       "       Location  Speed       Bowling Style  Bounce  Out  \n",
       "0         Point     70  Right arm Offbreak  Normal    0  \n",
       "1     Midwicket    141      Right-arm fast  Normal    0  \n",
       "2      Long-off    144      Right-arm fast  Normal    0  \n",
       "3  Wicketkeeper    147      Right-arm fast  Normal    0  \n",
       "4        Covers    148      Right-arm fast     Low    0  "
      ]
     },
     "execution_count": 450,
     "metadata": {},
     "output_type": "execute_result"
    }
   ],
   "source": [
    "# Removing the Unnamed: 0 row because it was useless\n",
    "balls_info = balls_info.drop(columns = ['Unnamed: 0'])\n",
    "balls_info.head()"
   ]
  },
  {
   "cell_type": "markdown",
   "metadata": {},
   "source": [
    "## Data Preparation -- Checking Conditions for Logistic Regression"
   ]
  },
  {
   "cell_type": "code",
   "execution_count": 451,
   "metadata": {},
   "outputs": [],
   "source": [
    "import sklearn\n",
    "from sklearn import preprocessing"
   ]
  },
  {
   "cell_type": "code",
   "execution_count": 452,
   "metadata": {},
   "outputs": [],
   "source": [
    "from sklearn.preprocessing import LabelEncoder\n",
    "from sklearn.preprocessing import OneHotEncoder"
   ]
  },
  {
   "cell_type": "markdown",
   "metadata": {},
   "source": [
    "### Checking that Target Variable is Binary"
   ]
  },
  {
   "cell_type": "code",
   "execution_count": 453,
   "metadata": {},
   "outputs": [
    {
     "data": {
      "text/plain": [
       "<AxesSubplot:xlabel='Out', ylabel='count'>"
      ]
     },
     "execution_count": 453,
     "metadata": {},
     "output_type": "execute_result"
    },
    {
     "data": {
      "image/png": "[encoded data removed]",
      "text/plain": [
       "<Figure size 360x288 with 1 Axes>"
      ]
     },
     "metadata": {},
     "output_type": "display_data"
    }
   ],
   "source": [
    "sb.countplot(x = 'Out', data = balls_info, palette = 'hls')"
   ]
  },
  {
   "cell_type": "markdown",
   "metadata": {},
   "source": [
    "### Checking and Taking Care of Missing/Unreasonable Values"
   ]
  },
  {
   "cell_type": "code",
   "execution_count": 454,
   "metadata": {},
   "outputs": [
    {
     "name": "stdout",
     "output_type": "stream",
     "text": [
      "<class 'pandas.core.frame.DataFrame'>\n",
      "RangeIndex: 11135 entries, 0 to 11134\n",
      "Data columns (total 9 columns):\n",
      " #   Column         Non-Null Count  Dtype \n",
      "---  ------         --------------  ----- \n",
      " 0   Format         11135 non-null  object\n",
      " 1   Game Location  11135 non-null  object\n",
      " 2   Line           11135 non-null  object\n",
      " 3   Length         11135 non-null  object\n",
      " 4   Location       11135 non-null  object\n",
      " 5   Speed          11135 non-null  int64 \n",
      " 6   Bowling Style  10934 non-null  object\n",
      " 7   Bounce         11135 non-null  object\n",
      " 8   Out            11135 non-null  int64 \n",
      "dtypes: int64(2), object(7)\n",
      "memory usage: 783.1+ KB\n"
     ]
    }
   ],
   "source": [
    "balls_info.info()"
   ]
  },
  {
   "cell_type": "code",
   "execution_count": 455,
   "metadata": {},
   "outputs": [],
   "source": [
    "# Want to remove the data where bowling style is null (in this case, the speed will be -1)\n",
    "balls_info.dropna(inplace = True)"
   ]
  },
  {
   "cell_type": "code",
   "execution_count": 456,
   "metadata": {},
   "outputs": [
    {
     "data": {
      "text/plain": [
       "Format           0\n",
       "Game Location    0\n",
       "Line             0\n",
       "Length           0\n",
       "Location         0\n",
       "Speed            0\n",
       "Bowling Style    0\n",
       "Bounce           0\n",
       "Out              0\n",
       "dtype: int64"
      ]
     },
     "execution_count": 456,
     "metadata": {},
     "output_type": "execute_result"
    }
   ],
   "source": [
    "# We don't want any null values\n",
    "balls_info.isnull().sum()"
   ]
  },
  {
   "cell_type": "code",
   "execution_count": 457,
   "metadata": {},
   "outputs": [
    {
     "data": {
      "text/plain": [
       "54"
      ]
     },
     "execution_count": 457,
     "metadata": {},
     "output_type": "execute_result"
    }
   ],
   "source": [
    "len(balls_info[balls_info['Speed'] == -1])"
   ]
  },
  {
   "cell_type": "code",
   "execution_count": 458,
   "metadata": {},
   "outputs": [],
   "source": [
    "# Removing the rows where speed is not found\n",
    "balls_info.drop(balls_info[balls_info['Speed'] == -1].index, inplace = True)"
   ]
  },
  {
   "cell_type": "code",
   "execution_count": 459,
   "metadata": {},
   "outputs": [
    {
     "data": {
      "text/plain": [
       "0"
      ]
     },
     "execution_count": 459,
     "metadata": {},
     "output_type": "execute_result"
    }
   ],
   "source": [
    "len(balls_info[balls_info['Speed'] == -1])"
   ]
  },
  {
   "cell_type": "code",
   "execution_count": 460,
   "metadata": {},
   "outputs": [
    {
     "data": {
      "text/html": [
       "<div>\n",
       "<style scoped>\n",
       "    .dataframe tbody tr th:only-of-type {\n",
       "        vertical-align: middle;\n",
       "    }\n",
       "\n",
       "    .dataframe tbody tr th {\n",
       "        vertical-align: top;\n",
       "    }\n",
       "\n",
       "    .dataframe thead th {\n",
       "        text-align: right;\n",
       "    }\n",
       "</style>\n",
       "<table border=\"1\" class=\"dataframe\">\n",
       "  <thead>\n",
       "    <tr style=\"text-align: right;\">\n",
       "      <th></th>\n",
       "      <th>Speed</th>\n",
       "      <th>Out</th>\n",
       "    </tr>\n",
       "  </thead>\n",
       "  <tbody>\n",
       "    <tr>\n",
       "      <th>count</th>\n",
       "      <td>1.088000e+04</td>\n",
       "      <td>10880.000000</td>\n",
       "    </tr>\n",
       "    <tr>\n",
       "      <th>mean</th>\n",
       "      <td>3.445753e+02</td>\n",
       "      <td>0.013419</td>\n",
       "    </tr>\n",
       "    <tr>\n",
       "      <th>std</th>\n",
       "      <td>1.593081e+04</td>\n",
       "      <td>0.115066</td>\n",
       "    </tr>\n",
       "    <tr>\n",
       "      <th>min</th>\n",
       "      <td>0.000000e+00</td>\n",
       "      <td>0.000000</td>\n",
       "    </tr>\n",
       "    <tr>\n",
       "      <th>25%</th>\n",
       "      <td>8.300000e+01</td>\n",
       "      <td>0.000000</td>\n",
       "    </tr>\n",
       "    <tr>\n",
       "      <th>50%</th>\n",
       "      <td>1.260000e+02</td>\n",
       "      <td>0.000000</td>\n",
       "    </tr>\n",
       "    <tr>\n",
       "      <th>75%</th>\n",
       "      <td>1.370000e+02</td>\n",
       "      <td>0.000000</td>\n",
       "    </tr>\n",
       "    <tr>\n",
       "      <th>max</th>\n",
       "      <td>1.421000e+06</td>\n",
       "      <td>1.000000</td>\n",
       "    </tr>\n",
       "  </tbody>\n",
       "</table>\n",
       "</div>"
      ],
      "text/plain": [
       "              Speed           Out\n",
       "count  1.088000e+04  10880.000000\n",
       "mean   3.445753e+02      0.013419\n",
       "std    1.593081e+04      0.115066\n",
       "min    0.000000e+00      0.000000\n",
       "25%    8.300000e+01      0.000000\n",
       "50%    1.260000e+02      0.000000\n",
       "75%    1.370000e+02      0.000000\n",
       "max    1.421000e+06      1.000000"
      ]
     },
     "execution_count": 460,
     "metadata": {},
     "output_type": "execute_result"
    }
   ],
   "source": [
    "# Notice how the minimum for Speed is 0 which doesn't make sense\n",
    "balls_info.describe()"
   ]
  },
  {
   "cell_type": "code",
   "execution_count": 461,
   "metadata": {},
   "outputs": [],
   "source": [
    "# Removing the rows where the speed is 0\n",
    "balls_info.drop(balls_info[balls_info['Speed'] == 0].index, inplace = True)"
   ]
  },
  {
   "cell_type": "code",
   "execution_count": 462,
   "metadata": {},
   "outputs": [
    {
     "data": {
      "text/html": [
       "<div>\n",
       "<style scoped>\n",
       "    .dataframe tbody tr th:only-of-type {\n",
       "        vertical-align: middle;\n",
       "    }\n",
       "\n",
       "    .dataframe tbody tr th {\n",
       "        vertical-align: top;\n",
       "    }\n",
       "\n",
       "    .dataframe thead th {\n",
       "        text-align: right;\n",
       "    }\n",
       "</style>\n",
       "<table border=\"1\" class=\"dataframe\">\n",
       "  <thead>\n",
       "    <tr style=\"text-align: right;\">\n",
       "      <th></th>\n",
       "      <th>Speed</th>\n",
       "      <th>Out</th>\n",
       "    </tr>\n",
       "  </thead>\n",
       "  <tbody>\n",
       "    <tr>\n",
       "      <th>count</th>\n",
       "      <td>1.086800e+04</td>\n",
       "      <td>10868.000000</td>\n",
       "    </tr>\n",
       "    <tr>\n",
       "      <th>mean</th>\n",
       "      <td>3.449557e+02</td>\n",
       "      <td>0.013434</td>\n",
       "    </tr>\n",
       "    <tr>\n",
       "      <th>std</th>\n",
       "      <td>1.593960e+04</td>\n",
       "      <td>0.115129</td>\n",
       "    </tr>\n",
       "    <tr>\n",
       "      <th>min</th>\n",
       "      <td>1.000000e+00</td>\n",
       "      <td>0.000000</td>\n",
       "    </tr>\n",
       "    <tr>\n",
       "      <th>25%</th>\n",
       "      <td>8.300000e+01</td>\n",
       "      <td>0.000000</td>\n",
       "    </tr>\n",
       "    <tr>\n",
       "      <th>50%</th>\n",
       "      <td>1.260000e+02</td>\n",
       "      <td>0.000000</td>\n",
       "    </tr>\n",
       "    <tr>\n",
       "      <th>75%</th>\n",
       "      <td>1.370000e+02</td>\n",
       "      <td>0.000000</td>\n",
       "    </tr>\n",
       "    <tr>\n",
       "      <th>max</th>\n",
       "      <td>1.421000e+06</td>\n",
       "      <td>1.000000</td>\n",
       "    </tr>\n",
       "  </tbody>\n",
       "</table>\n",
       "</div>"
      ],
      "text/plain": [
       "              Speed           Out\n",
       "count  1.086800e+04  10868.000000\n",
       "mean   3.449557e+02      0.013434\n",
       "std    1.593960e+04      0.115129\n",
       "min    1.000000e+00      0.000000\n",
       "25%    8.300000e+01      0.000000\n",
       "50%    1.260000e+02      0.000000\n",
       "75%    1.370000e+02      0.000000\n",
       "max    1.421000e+06      1.000000"
      ]
     },
     "execution_count": 462,
     "metadata": {},
     "output_type": "execute_result"
    }
   ],
   "source": [
    "# Still, the minimum for speed is 1 which doesn't make any sense\n",
    "balls_info.describe()"
   ]
  },
  {
   "cell_type": "code",
   "execution_count": 463,
   "metadata": {},
   "outputs": [],
   "source": [
    "balls_info.drop(balls_info[balls_info['Speed'] == 1].index, inplace = True)"
   ]
  },
  {
   "cell_type": "code",
   "execution_count": 464,
   "metadata": {},
   "outputs": [
    {
     "data": {
      "text/html": [
       "<div>\n",
       "<style scoped>\n",
       "    .dataframe tbody tr th:only-of-type {\n",
       "        vertical-align: middle;\n",
       "    }\n",
       "\n",
       "    .dataframe tbody tr th {\n",
       "        vertical-align: top;\n",
       "    }\n",
       "\n",
       "    .dataframe thead th {\n",
       "        text-align: right;\n",
       "    }\n",
       "</style>\n",
       "<table border=\"1\" class=\"dataframe\">\n",
       "  <thead>\n",
       "    <tr style=\"text-align: right;\">\n",
       "      <th></th>\n",
       "      <th>Speed</th>\n",
       "      <th>Out</th>\n",
       "    </tr>\n",
       "  </thead>\n",
       "  <tbody>\n",
       "    <tr>\n",
       "      <th>count</th>\n",
       "      <td>1.086700e+04</td>\n",
       "      <td>10867.000000</td>\n",
       "    </tr>\n",
       "    <tr>\n",
       "      <th>mean</th>\n",
       "      <td>3.449874e+02</td>\n",
       "      <td>0.013435</td>\n",
       "    </tr>\n",
       "    <tr>\n",
       "      <th>std</th>\n",
       "      <td>1.594034e+04</td>\n",
       "      <td>0.115134</td>\n",
       "    </tr>\n",
       "    <tr>\n",
       "      <th>min</th>\n",
       "      <td>4.100000e+01</td>\n",
       "      <td>0.000000</td>\n",
       "    </tr>\n",
       "    <tr>\n",
       "      <th>25%</th>\n",
       "      <td>8.300000e+01</td>\n",
       "      <td>0.000000</td>\n",
       "    </tr>\n",
       "    <tr>\n",
       "      <th>50%</th>\n",
       "      <td>1.260000e+02</td>\n",
       "      <td>0.000000</td>\n",
       "    </tr>\n",
       "    <tr>\n",
       "      <th>75%</th>\n",
       "      <td>1.370000e+02</td>\n",
       "      <td>0.000000</td>\n",
       "    </tr>\n",
       "    <tr>\n",
       "      <th>max</th>\n",
       "      <td>1.421000e+06</td>\n",
       "      <td>1.000000</td>\n",
       "    </tr>\n",
       "  </tbody>\n",
       "</table>\n",
       "</div>"
      ],
      "text/plain": [
       "              Speed           Out\n",
       "count  1.086700e+04  10867.000000\n",
       "mean   3.449874e+02      0.013435\n",
       "std    1.594034e+04      0.115134\n",
       "min    4.100000e+01      0.000000\n",
       "25%    8.300000e+01      0.000000\n",
       "50%    1.260000e+02      0.000000\n",
       "75%    1.370000e+02      0.000000\n",
       "max    1.421000e+06      1.000000"
      ]
     },
     "execution_count": 464,
     "metadata": {},
     "output_type": "execute_result"
    }
   ],
   "source": [
    "# Now all the values make sense\n",
    "balls_info.describe()"
   ]
  },
  {
   "cell_type": "code",
   "execution_count": 465,
   "metadata": {},
   "outputs": [],
   "source": [
    "# After all these edits, we need to fix the index of balls_info\n",
    "balls_info.index = np.arange(0, len(balls_info))"
   ]
  },
  {
   "cell_type": "markdown",
   "metadata": {},
   "source": [
    "### Converting Categorical Variables to Dummy Indicators"
   ]
  },
  {
   "cell_type": "code",
   "execution_count": 466,
   "metadata": {},
   "outputs": [
    {
     "data": {
      "text/plain": [
       "array(['Test', 'ODI', 'T20I'], dtype=object)"
      ]
     },
     "execution_count": 466,
     "metadata": {},
     "output_type": "execute_result"
    }
   ],
   "source": [
    "# Since there are a fixed number of columns, we can use One Hot Encoding in this case\n",
    "# Also the data isn't ordinal\n",
    "balls_info['Format'].unique()"
   ]
  },
  {
   "cell_type": "code",
   "execution_count": 467,
   "metadata": {},
   "outputs": [
    {
     "data": {
      "text/plain": [
       "array(['Hyderabad (Deccan)', 'Pune', 'Bengaluru', 'Ranchi', 'Kolkata',\n",
       "       'Nagpur', 'Delhi', 'Rajkot', 'Visakhapatnam', 'Indore', 'Chennai',\n",
       "       'Ahmedabad', 'Cuttack', 'Birmingham', 'The Oval', 'Mumbai',\n",
       "       'Kanpur', 'Guwahati', 'Mumbai (BS)', 'Thiruvananthapuram',\n",
       "       'Mohali', 'Southampton', 'Manchester', 'Leeds', 'Lauderhill',\n",
       "       'Galle', 'Colombo (SSC)', 'Pallekele', 'Cape Town', 'Centurion',\n",
       "       'Johannesburg', \"Lord's\", 'Nottingham', 'Adelaide', 'Perth',\n",
       "       'Melbourne', 'Sydney', 'North Sound', 'Kingston', 'Wellington',\n",
       "       'Christchurch', 'Port of Spain', 'Dambulla', 'Colombo (RPS)',\n",
       "       'Durban', 'Port Elizabeth', 'Napier', 'Mount Maunganui',\n",
       "       'Hamilton', 'Auckland', 'Canberra', 'Dublin (Malahide)', 'Cardiff',\n",
       "       'Bristol', 'Brisbane', 'Providence'], dtype=object)"
      ]
     },
     "execution_count": 467,
     "metadata": {},
     "output_type": "execute_result"
    }
   ],
   "source": [
    "# There are too many options, but we reduce it to 6-7 options in the next cell so we can use One Hot Encoding\n",
    "balls_info['Game Location'].unique()"
   ]
  },
  {
   "cell_type": "code",
   "execution_count": 468,
   "metadata": {},
   "outputs": [
    {
     "name": "stderr",
     "output_type": "stream",
     "text": [
      "c:\\Users\\Mohit\\anaconda3\\lib\\site-packages\\pandas\\core\\indexing.py:1732: SettingWithCopyWarning: \n",
      "A value is trying to be set on a copy of a slice from a DataFrame\n",
      "\n",
      "See the caveats in the documentation: https://pandas.pydata.org/pandas-docs/stable/user_guide/indexing.html#returning-a-view-versus-a-copy\n",
      "  self._setitem_single_block(indexer, value, name)\n"
     ]
    },
    {
     "data": {
      "text/plain": [
       "array(['India', 'England', 'USA', 'Sri Lanka', 'South Africa',\n",
       "       'Australia', 'West Indies', 'New Zealand'], dtype=object)"
      ]
     },
     "execution_count": 468,
     "metadata": {},
     "output_type": "execute_result"
    }
   ],
   "source": [
    "# Changing Game Location to countries\n",
    "for i in range(0, len(balls_info)):\n",
    "    india = ['hyderabad (deccan)', 'pune', 'bengaluru', 'ranchi', 'kolkata',\n",
    "       'nagpur', 'delhi', 'rajkot', 'visakhapatnam', 'indore', 'chennai',\n",
    "       'ahmedabad', 'mumbai', 'thiruvananthapuram', 'cuttack', 'kanpur', 'guwahati',\n",
    "       'mumbai (bs)', 'mohali']\n",
    "    sri_lanka = ['colombo (rps)', 'galle', 'colombo (ssc)', 'pallekele', 'dambulla']\n",
    "    england = ['birmingham', 'the oval', 'southampton', 'manchester', 'leeds',\n",
    "               'lord\\'s', 'nottingham', 'bristol', 'dublin (malahide)', 'cardiff']\n",
    "    usa = ['lauderhill']\n",
    "    south_africa = ['cape town', 'centurion', 'johannesburg', 'durban', \n",
    "                    'port elizabeth']\n",
    "    australia = ['adelaide', 'perth', 'melbourne', 'sydney', 'canberra', 'brisbane']\n",
    "    west_indies = ['north sound', 'kingston', 'providence']\n",
    "    new_zealand = ['wellington', 'christchurch', 'port of spain', 'napier', \n",
    "                   'mount maunganui', 'hamilton', 'auckland']\n",
    "    \n",
    "    currentLoc = balls_info['Game Location'].iloc[i].lower()\n",
    "    \n",
    "    if (india.__contains__(currentLoc)):\n",
    "        balls_info['Game Location'].iloc[i] = 'India'\n",
    "    elif (sri_lanka.__contains__(currentLoc)):\n",
    "        balls_info['Game Location'].iloc[i] = 'Sri Lanka'\n",
    "    elif (england.__contains__(currentLoc)):\n",
    "        balls_info['Game Location'].iloc[i] = 'England'\n",
    "    elif (usa.__contains__(currentLoc)):\n",
    "        balls_info['Game Location'].iloc[i] = 'USA'\n",
    "    elif (south_africa.__contains__(currentLoc)):\n",
    "        balls_info['Game Location'].iloc[i] = 'South Africa'\n",
    "    elif (australia.__contains__(currentLoc)):\n",
    "        balls_info['Game Location'].iloc[i] = 'Australia'\n",
    "    elif (west_indies.__contains__(currentLoc)):\n",
    "        balls_info['Game Location'].iloc[i] = 'West Indies'\n",
    "    elif (new_zealand.__contains__(currentLoc)):\n",
    "        balls_info['Game Location'].iloc[i] = 'New Zealand'\n",
    "        \n",
    "balls_info['Game Location'].unique()"
   ]
  },
  {
   "cell_type": "code",
   "execution_count": 469,
   "metadata": {},
   "outputs": [
    {
     "data": {
      "text/plain": [
       "array(['Wide Outside Off', 'Middle Stump', 'Offside', 'Off Stump',\n",
       "       'Leg Stump', 'Legside'], dtype=object)"
      ]
     },
     "execution_count": 469,
     "metadata": {},
     "output_type": "execute_result"
    }
   ],
   "source": [
    "# We can use One Hot Encoding in this case because there are not too many choices\n",
    "# The data isn't ordinal either\n",
    "balls_info['Line'].unique()"
   ]
  },
  {
   "cell_type": "code",
   "execution_count": 470,
   "metadata": {},
   "outputs": [
    {
     "data": {
      "text/plain": [
       "array(['Short', 'Full', 'Good', 'Back of a Length'], dtype=object)"
      ]
     },
     "execution_count": 470,
     "metadata": {},
     "output_type": "execute_result"
    }
   ],
   "source": [
    "# Here also we can use One Hot Encoding as the data is not ordinal and there are only 4 choices\n",
    "balls_info['Length'].unique()"
   ]
  },
  {
   "cell_type": "code",
   "execution_count": 471,
   "metadata": {},
   "outputs": [
    {
     "data": {
      "text/plain": [
       "array(['Point', 'Midwicket', 'Long-off', 'Wicketkeeper', 'Covers',\n",
       "       'Offside', 'Deep Square Leg', 'Square Leg', 'Close', 'Mid-On',\n",
       "       'Long Leg', 'Mid-Off', 'Deep Point', 'Legside', 'Long-on',\n",
       "       'Short Leg', 'Extra Cover', 'Third Man', 'Deep Midwicket',\n",
       "       'Sweeper', 'Gully', 'First slip', 'Fine Leg', 'Second slip',\n",
       "       'Short Third Man', 'Short Fine Leg'], dtype=object)"
      ]
     },
     "execution_count": 471,
     "metadata": {},
     "output_type": "execute_result"
    }
   ],
   "source": [
    "# Too many options so we shouldn't use One Hot Encoding\n",
    "balls_info['Location'].unique()"
   ]
  },
  {
   "cell_type": "code",
   "execution_count": 472,
   "metadata": {},
   "outputs": [
    {
     "data": {
      "text/plain": [
       "array(['Right arm Offbreak', 'Right-arm fast', 'Right-arm medium-fast',\n",
       "       'Slow Left arm Orthodox', 'Legbreak', 'Left-arm fast',\n",
       "       'Slow left-arm orthodox', 'Right arm Fast medium',\n",
       "       'Right arm Fast', 'Right-arm fast-medium', 'Right-arm medium',\n",
       "       'Right-arm offbreak', 'Right arm Medium', 'Slow left-arm chinaman',\n",
       "       'Right arm Medium fast', 'Right-arm offbreak, Legbreak',\n",
       "       'Left-arm fast-medium', 'Left arm Fast', 'Legbreak googly',\n",
       "       'Left arm Fast medium', 'Left-arm medium-fast',\n",
       "       'Left arm Medium fast', 'Right arm Offbreak, Legbreak',\n",
       "       'Legbreak Googly'], dtype=object)"
      ]
     },
     "execution_count": 472,
     "metadata": {},
     "output_type": "execute_result"
    }
   ],
   "source": [
    "# Again, too many options but we do reduce the options to 6 in the next cell so we can use One Hot Encoding\n",
    "balls_info['Bowling Style'].unique()"
   ]
  },
  {
   "cell_type": "code",
   "execution_count": 473,
   "metadata": {},
   "outputs": [
    {
     "data": {
      "text/plain": [
       "array(['right arm offbreak', 'right arm fast', 'left arm offbreak',\n",
       "       'right arm legbreak', 'left arm fast', 'left arm legbreak'],\n",
       "      dtype=object)"
      ]
     },
     "execution_count": 473,
     "metadata": {},
     "output_type": "execute_result"
    }
   ],
   "source": [
    "# Removing Duplicates from Bowling Style and condensing it\n",
    "# We already got the speeds so we can generalize all the bowling styles\n",
    "for i in range(0, len(balls_info)):\n",
    "    right_arm_offbreak = ['right arm offbreak', 'right-arm offbreak']\n",
    "    right_arm_fast = ['right arm fast medium', 'right arm medium', 'right-arm fast-medium', 'right-arm medium-fast', 'right arm fast', 'right-arm fast', 'right-arm medium', 'right arm medium fast']\n",
    "    right_arm_legbreak = ['legbreak', 'legbreak googly']\n",
    "    left_arm_offbreak = ['slow left-arm orthodox', 'slow left arm orthodox']\n",
    "    left_arm_fast = ['left-arm fast', 'left-arm fast-medium', 'left arm fast', 'left arm fast medium', 'left arm medium fast', 'left-arm medium-fast']\n",
    "    left_arm_legbreak = ['slow left-arm chinaman']\n",
    "    \n",
    "    currentStyle = balls_info['Bowling Style'].iloc[i].lower()\n",
    "    \n",
    "    if (right_arm_offbreak.__contains__(currentStyle)):\n",
    "        balls_info['Bowling Style'].iloc[i] = 'right arm offbreak'\n",
    "    elif (right_arm_fast.__contains__(currentStyle)):\n",
    "        balls_info['Bowling Style'].iloc[i] = 'right arm fast'\n",
    "    elif (right_arm_legbreak.__contains__(currentStyle)):\n",
    "        balls_info['Bowling Style'].iloc[i] = 'right arm legbreak'\n",
    "    elif (left_arm_offbreak.__contains__(currentStyle)):\n",
    "        balls_info['Bowling Style'].iloc[i] = 'left arm offbreak'\n",
    "    elif (left_arm_fast.__contains__(currentStyle)):\n",
    "        balls_info['Bowling Style'].iloc[i] = 'left arm fast'\n",
    "    elif (left_arm_legbreak.__contains__(currentStyle)):\n",
    "        balls_info['Bowling Style'].iloc[i] = 'left arm legbreak'\n",
    "    else:\n",
    "        balls_info['Bowling Style'].iloc[i] = np.random.choice(['right arm offbreak', 'right arm legbreak'])\n",
    "        \n",
    "balls_info['Bowling Style'].unique()"
   ]
  },
  {
   "cell_type": "code",
   "execution_count": 474,
   "metadata": {},
   "outputs": [
    {
     "data": {
      "text/plain": [
       "array(['Normal', 'Low', 'High'], dtype=object)"
      ]
     },
     "execution_count": 474,
     "metadata": {},
     "output_type": "execute_result"
    }
   ],
   "source": [
    "# Only a few options for this but this could be ordinal data so we shouldn't use One Hot Encoding\n",
    "balls_info['Bounce'].unique()"
   ]
  },
  {
   "cell_type": "code",
   "execution_count": 475,
   "metadata": {},
   "outputs": [],
   "source": [
    "label_encoder = LabelEncoder()\n",
    "binary_encoder = OneHotEncoder(categories = 'auto')"
   ]
  },
  {
   "cell_type": "code",
   "execution_count": 476,
   "metadata": {},
   "outputs": [
    {
     "data": {
      "text/html": [
       "<div>\n",
       "<style scoped>\n",
       "    .dataframe tbody tr th:only-of-type {\n",
       "        vertical-align: middle;\n",
       "    }\n",
       "\n",
       "    .dataframe tbody tr th {\n",
       "        vertical-align: top;\n",
       "    }\n",
       "\n",
       "    .dataframe thead th {\n",
       "        text-align: right;\n",
       "    }\n",
       "</style>\n",
       "<table border=\"1\" class=\"dataframe\">\n",
       "  <thead>\n",
       "    <tr style=\"text-align: right;\">\n",
       "      <th></th>\n",
       "      <th>ODI</th>\n",
       "      <th>T20</th>\n",
       "      <th>Test</th>\n",
       "    </tr>\n",
       "  </thead>\n",
       "  <tbody>\n",
       "    <tr>\n",
       "      <th>0</th>\n",
       "      <td>0.0</td>\n",
       "      <td>0.0</td>\n",
       "      <td>1.0</td>\n",
       "    </tr>\n",
       "    <tr>\n",
       "      <th>1</th>\n",
       "      <td>0.0</td>\n",
       "      <td>0.0</td>\n",
       "      <td>1.0</td>\n",
       "    </tr>\n",
       "    <tr>\n",
       "      <th>2</th>\n",
       "      <td>0.0</td>\n",
       "      <td>0.0</td>\n",
       "      <td>1.0</td>\n",
       "    </tr>\n",
       "    <tr>\n",
       "      <th>3</th>\n",
       "      <td>0.0</td>\n",
       "      <td>0.0</td>\n",
       "      <td>1.0</td>\n",
       "    </tr>\n",
       "    <tr>\n",
       "      <th>4</th>\n",
       "      <td>0.0</td>\n",
       "      <td>0.0</td>\n",
       "      <td>1.0</td>\n",
       "    </tr>\n",
       "  </tbody>\n",
       "</table>\n",
       "</div>"
      ],
      "text/plain": [
       "   ODI  T20  Test\n",
       "0  0.0  0.0   1.0\n",
       "1  0.0  0.0   1.0\n",
       "2  0.0  0.0   1.0\n",
       "3  0.0  0.0   1.0\n",
       "4  0.0  0.0   1.0"
      ]
     },
     "execution_count": 476,
     "metadata": {},
     "output_type": "execute_result"
    }
   ],
   "source": [
    "# Converting Format Feature to Binary Features\n",
    "format_categorical = balls_info['Format']\n",
    "format_encoded = label_encoder.fit_transform(format_categorical)\n",
    "\n",
    "format_1hot = binary_encoder.fit_transform(format_encoded.reshape(-1, 1))\n",
    "format_1hot_matrix = format_1hot.toarray()\n",
    "format_df = pd.DataFrame(format_1hot_matrix, columns = ['ODI', 'T20', 'Test'])\n",
    "format_df.head()"
   ]
  },
  {
   "cell_type": "code",
   "execution_count": 477,
   "metadata": {},
   "outputs": [
    {
     "data": {
      "text/html": [
       "<div>\n",
       "<style scoped>\n",
       "    .dataframe tbody tr th:only-of-type {\n",
       "        vertical-align: middle;\n",
       "    }\n",
       "\n",
       "    .dataframe tbody tr th {\n",
       "        vertical-align: top;\n",
       "    }\n",
       "\n",
       "    .dataframe thead th {\n",
       "        text-align: right;\n",
       "    }\n",
       "</style>\n",
       "<table border=\"1\" class=\"dataframe\">\n",
       "  <thead>\n",
       "    <tr style=\"text-align: right;\">\n",
       "      <th></th>\n",
       "      <th>Australia</th>\n",
       "      <th>England</th>\n",
       "      <th>India</th>\n",
       "      <th>New Zealand</th>\n",
       "      <th>South Africa</th>\n",
       "      <th>Sri Lanka</th>\n",
       "      <th>USA</th>\n",
       "      <th>West Indies</th>\n",
       "    </tr>\n",
       "  </thead>\n",
       "  <tbody>\n",
       "    <tr>\n",
       "      <th>0</th>\n",
       "      <td>0.0</td>\n",
       "      <td>0.0</td>\n",
       "      <td>1.0</td>\n",
       "      <td>0.0</td>\n",
       "      <td>0.0</td>\n",
       "      <td>0.0</td>\n",
       "      <td>0.0</td>\n",
       "      <td>0.0</td>\n",
       "    </tr>\n",
       "    <tr>\n",
       "      <th>1</th>\n",
       "      <td>0.0</td>\n",
       "      <td>0.0</td>\n",
       "      <td>1.0</td>\n",
       "      <td>0.0</td>\n",
       "      <td>0.0</td>\n",
       "      <td>0.0</td>\n",
       "      <td>0.0</td>\n",
       "      <td>0.0</td>\n",
       "    </tr>\n",
       "    <tr>\n",
       "      <th>2</th>\n",
       "      <td>0.0</td>\n",
       "      <td>0.0</td>\n",
       "      <td>1.0</td>\n",
       "      <td>0.0</td>\n",
       "      <td>0.0</td>\n",
       "      <td>0.0</td>\n",
       "      <td>0.0</td>\n",
       "      <td>0.0</td>\n",
       "    </tr>\n",
       "    <tr>\n",
       "      <th>3</th>\n",
       "      <td>0.0</td>\n",
       "      <td>0.0</td>\n",
       "      <td>1.0</td>\n",
       "      <td>0.0</td>\n",
       "      <td>0.0</td>\n",
       "      <td>0.0</td>\n",
       "      <td>0.0</td>\n",
       "      <td>0.0</td>\n",
       "    </tr>\n",
       "    <tr>\n",
       "      <th>4</th>\n",
       "      <td>0.0</td>\n",
       "      <td>0.0</td>\n",
       "      <td>1.0</td>\n",
       "      <td>0.0</td>\n",
       "      <td>0.0</td>\n",
       "      <td>0.0</td>\n",
       "      <td>0.0</td>\n",
       "      <td>0.0</td>\n",
       "    </tr>\n",
       "  </tbody>\n",
       "</table>\n",
       "</div>"
      ],
      "text/plain": [
       "   Australia  England  India  New Zealand  South Africa  Sri Lanka  USA  \\\n",
       "0        0.0      0.0    1.0          0.0           0.0        0.0  0.0   \n",
       "1        0.0      0.0    1.0          0.0           0.0        0.0  0.0   \n",
       "2        0.0      0.0    1.0          0.0           0.0        0.0  0.0   \n",
       "3        0.0      0.0    1.0          0.0           0.0        0.0  0.0   \n",
       "4        0.0      0.0    1.0          0.0           0.0        0.0  0.0   \n",
       "\n",
       "   West Indies  \n",
       "0          0.0  \n",
       "1          0.0  \n",
       "2          0.0  \n",
       "3          0.0  \n",
       "4          0.0  "
      ]
     },
     "execution_count": 477,
     "metadata": {},
     "output_type": "execute_result"
    }
   ],
   "source": [
    "# Converting Game Location Feature to Binary Features\n",
    "game_location_categorical = balls_info['Game Location']\n",
    "game_location_encoded = label_encoder.fit_transform(game_location_categorical)\n",
    "\n",
    "game_location_1hot = binary_encoder.fit_transform(game_location_encoded.reshape(-1, 1))\n",
    "game_location_1hot_matrix = game_location_1hot.toarray()\n",
    "game_location_df = pd.DataFrame(game_location_1hot_matrix, columns = ['Australia', 'England', 'India', 'New Zealand', 'South Africa',\n",
    "       'Sri Lanka', 'USA', 'West Indies'])\n",
    "game_location_df.head()"
   ]
  },
  {
   "cell_type": "code",
   "execution_count": 478,
   "metadata": {},
   "outputs": [
    {
     "data": {
      "text/html": [
       "<div>\n",
       "<style scoped>\n",
       "    .dataframe tbody tr th:only-of-type {\n",
       "        vertical-align: middle;\n",
       "    }\n",
       "\n",
       "    .dataframe tbody tr th {\n",
       "        vertical-align: top;\n",
       "    }\n",
       "\n",
       "    .dataframe thead th {\n",
       "        text-align: right;\n",
       "    }\n",
       "</style>\n",
       "<table border=\"1\" class=\"dataframe\">\n",
       "  <thead>\n",
       "    <tr style=\"text-align: right;\">\n",
       "      <th></th>\n",
       "      <th>Line: Leg Stump</th>\n",
       "      <th>Line: Legside</th>\n",
       "      <th>Line: Middle Stump</th>\n",
       "      <th>Line: Off Stump</th>\n",
       "      <th>Line: Offside</th>\n",
       "      <th>Line: Wide Outside Off</th>\n",
       "    </tr>\n",
       "  </thead>\n",
       "  <tbody>\n",
       "    <tr>\n",
       "      <th>0</th>\n",
       "      <td>0.0</td>\n",
       "      <td>0.0</td>\n",
       "      <td>0.0</td>\n",
       "      <td>0.0</td>\n",
       "      <td>0.0</td>\n",
       "      <td>1.0</td>\n",
       "    </tr>\n",
       "    <tr>\n",
       "      <th>1</th>\n",
       "      <td>0.0</td>\n",
       "      <td>0.0</td>\n",
       "      <td>1.0</td>\n",
       "      <td>0.0</td>\n",
       "      <td>0.0</td>\n",
       "      <td>0.0</td>\n",
       "    </tr>\n",
       "    <tr>\n",
       "      <th>2</th>\n",
       "      <td>0.0</td>\n",
       "      <td>0.0</td>\n",
       "      <td>1.0</td>\n",
       "      <td>0.0</td>\n",
       "      <td>0.0</td>\n",
       "      <td>0.0</td>\n",
       "    </tr>\n",
       "    <tr>\n",
       "      <th>3</th>\n",
       "      <td>0.0</td>\n",
       "      <td>0.0</td>\n",
       "      <td>0.0</td>\n",
       "      <td>0.0</td>\n",
       "      <td>1.0</td>\n",
       "      <td>0.0</td>\n",
       "    </tr>\n",
       "    <tr>\n",
       "      <th>4</th>\n",
       "      <td>0.0</td>\n",
       "      <td>0.0</td>\n",
       "      <td>0.0</td>\n",
       "      <td>1.0</td>\n",
       "      <td>0.0</td>\n",
       "      <td>0.0</td>\n",
       "    </tr>\n",
       "  </tbody>\n",
       "</table>\n",
       "</div>"
      ],
      "text/plain": [
       "   Line: Leg Stump  Line: Legside  Line: Middle Stump  Line: Off Stump  \\\n",
       "0              0.0            0.0                 0.0              0.0   \n",
       "1              0.0            0.0                 1.0              0.0   \n",
       "2              0.0            0.0                 1.0              0.0   \n",
       "3              0.0            0.0                 0.0              0.0   \n",
       "4              0.0            0.0                 0.0              1.0   \n",
       "\n",
       "   Line: Offside  Line: Wide Outside Off  \n",
       "0            0.0                     1.0  \n",
       "1            0.0                     0.0  \n",
       "2            0.0                     0.0  \n",
       "3            1.0                     0.0  \n",
       "4            0.0                     0.0  "
      ]
     },
     "execution_count": 478,
     "metadata": {},
     "output_type": "execute_result"
    }
   ],
   "source": [
    "# Converting Line Feature to Binary Features\n",
    "line_categorical = balls_info['Line']\n",
    "line_encoded = label_encoder.fit_transform(line_categorical)\n",
    "\n",
    "line_1hot = binary_encoder.fit_transform(line_encoded.reshape(-1, 1))\n",
    "line_1hot_matrix = line_1hot.toarray()\n",
    "line_df = pd.DataFrame(line_1hot_matrix, columns = ['Line: Leg Stump', 'Line: Legside', 'Line: Middle Stump', 'Line: Off Stump', 'Line: Offside', 'Line: Wide Outside Off'])\n",
    "line_df.head()"
   ]
  },
  {
   "cell_type": "code",
   "execution_count": 479,
   "metadata": {},
   "outputs": [
    {
     "data": {
      "text/html": [
       "<div>\n",
       "<style scoped>\n",
       "    .dataframe tbody tr th:only-of-type {\n",
       "        vertical-align: middle;\n",
       "    }\n",
       "\n",
       "    .dataframe tbody tr th {\n",
       "        vertical-align: top;\n",
       "    }\n",
       "\n",
       "    .dataframe thead th {\n",
       "        text-align: right;\n",
       "    }\n",
       "</style>\n",
       "<table border=\"1\" class=\"dataframe\">\n",
       "  <thead>\n",
       "    <tr style=\"text-align: right;\">\n",
       "      <th></th>\n",
       "      <th>Length: Back of a Length</th>\n",
       "      <th>Length: Full</th>\n",
       "      <th>Length: Good</th>\n",
       "      <th>Length: Short</th>\n",
       "    </tr>\n",
       "  </thead>\n",
       "  <tbody>\n",
       "    <tr>\n",
       "      <th>0</th>\n",
       "      <td>0.0</td>\n",
       "      <td>0.0</td>\n",
       "      <td>0.0</td>\n",
       "      <td>1.0</td>\n",
       "    </tr>\n",
       "    <tr>\n",
       "      <th>1</th>\n",
       "      <td>0.0</td>\n",
       "      <td>1.0</td>\n",
       "      <td>0.0</td>\n",
       "      <td>0.0</td>\n",
       "    </tr>\n",
       "    <tr>\n",
       "      <th>2</th>\n",
       "      <td>0.0</td>\n",
       "      <td>1.0</td>\n",
       "      <td>0.0</td>\n",
       "      <td>0.0</td>\n",
       "    </tr>\n",
       "    <tr>\n",
       "      <th>3</th>\n",
       "      <td>0.0</td>\n",
       "      <td>0.0</td>\n",
       "      <td>1.0</td>\n",
       "      <td>0.0</td>\n",
       "    </tr>\n",
       "    <tr>\n",
       "      <th>4</th>\n",
       "      <td>1.0</td>\n",
       "      <td>0.0</td>\n",
       "      <td>0.0</td>\n",
       "      <td>0.0</td>\n",
       "    </tr>\n",
       "  </tbody>\n",
       "</table>\n",
       "</div>"
      ],
      "text/plain": [
       "   Length: Back of a Length  Length: Full  Length: Good  Length: Short\n",
       "0                       0.0           0.0           0.0            1.0\n",
       "1                       0.0           1.0           0.0            0.0\n",
       "2                       0.0           1.0           0.0            0.0\n",
       "3                       0.0           0.0           1.0            0.0\n",
       "4                       1.0           0.0           0.0            0.0"
      ]
     },
     "execution_count": 479,
     "metadata": {},
     "output_type": "execute_result"
    }
   ],
   "source": [
    "# Converting Length Feature to Binary Features\n",
    "length_categorical = balls_info['Length']\n",
    "length_encoded = label_encoder.fit_transform(length_categorical)\n",
    "\n",
    "length_1hot = binary_encoder.fit_transform(length_encoded.reshape(-1, 1))\n",
    "length_1hot_matrix = length_1hot.toarray()\n",
    "length_df = pd.DataFrame(length_1hot_matrix, columns = ['Length: Back of a Length', 'Length: Full', 'Length: Good', 'Length: Short'])\n",
    "length_df.head()"
   ]
  },
  {
   "cell_type": "code",
   "execution_count": 480,
   "metadata": {},
   "outputs": [
    {
     "data": {
      "text/plain": [
       "array([17, 15, 11, 25,  1, 16,  4, 15, 22,  0])"
      ]
     },
     "execution_count": 480,
     "metadata": {},
     "output_type": "execute_result"
    }
   ],
   "source": [
    "# Converting Location Feature to Numbers\n",
    "location_categorical = balls_info['Location']\n",
    "location_encoded = label_encoder.fit_transform(location_categorical)\n",
    "location_encoded[0:10]"
   ]
  },
  {
   "cell_type": "code",
   "execution_count": 481,
   "metadata": {},
   "outputs": [
    {
     "data": {
      "text/plain": [
       "array(['Close', 'Covers', 'Deep Midwicket', 'Deep Point',\n",
       "       'Deep Square Leg', 'Extra Cover', 'Fine Leg', 'First slip',\n",
       "       'Gully', 'Legside', 'Long Leg', 'Long-off', 'Long-on', 'Mid-Off',\n",
       "       'Mid-On', 'Midwicket', 'Offside', 'Point', 'Second slip',\n",
       "       'Short Fine Leg', 'Short Leg', 'Short Third Man', 'Square Leg',\n",
       "       'Sweeper', 'Third Man', 'Wicketkeeper'], dtype=object)"
      ]
     },
     "execution_count": 481,
     "metadata": {},
     "output_type": "execute_result"
    }
   ],
   "source": [
    "# The indexes are the encoded values for each of the locations\n",
    "label_encoder.classes_"
   ]
  },
  {
   "cell_type": "code",
   "execution_count": 482,
   "metadata": {},
   "outputs": [],
   "source": [
    "# Converting Bowling Style Feature to Binary Features\n",
    "bowling_style_categorical = balls_info['Bowling Style']\n",
    "bowling_style_encoded = label_encoder.fit_transform(bowling_style_categorical)\n",
    "\n",
    "bowling_style_1hot = binary_encoder.fit_transform(bowling_style_encoded.reshape(-1, 1))\n",
    "bowling_style_1hot_matrix = bowling_style_1hot.toarray()\n",
    "bowling_style_df = pd.DataFrame(bowling_style_1hot_matrix, columns = ['left arm fast', 'left arm legbreak', 'left arm offbreak',\n",
    "       'right arm fast', 'right arm legbreak', 'right arm offbreak'])"
   ]
  },
  {
   "cell_type": "code",
   "execution_count": 483,
   "metadata": {},
   "outputs": [
    {
     "data": {
      "text/plain": [
       "array([2, 2, 2, 2, 1, 2, 2, 2, 2, 2])"
      ]
     },
     "execution_count": 483,
     "metadata": {},
     "output_type": "execute_result"
    }
   ],
   "source": [
    "# Converting Bounce Feature to Numbers\n",
    "bounce_categorical = balls_info['Bounce']\n",
    "bounce_encoded = label_encoder.fit_transform(bounce_categorical)\n",
    "bounce_encoded[0:10]"
   ]
  },
  {
   "cell_type": "code",
   "execution_count": 484,
   "metadata": {},
   "outputs": [
    {
     "data": {
      "text/plain": [
       "array(['High', 'Low', 'Normal'], dtype=object)"
      ]
     },
     "execution_count": 484,
     "metadata": {},
     "output_type": "execute_result"
    }
   ],
   "source": [
    "# The indexes are encoded values for each of the bounce increments\n",
    "label_encoder.classes_"
   ]
  },
  {
   "cell_type": "code",
   "execution_count": 485,
   "metadata": {},
   "outputs": [
    {
     "data": {
      "text/plain": [
       "[70, 141, 144, 147, 148, 92, 70, 86, 82, 71]"
      ]
     },
     "execution_count": 485,
     "metadata": {},
     "output_type": "execute_result"
    }
   ],
   "source": [
    "# Getting the list of the Speed Column so we can add it in the order we want into the balls_info dataframe\n",
    "speed = balls_info['Speed'].to_list()\n",
    "speed[0:10]"
   ]
  },
  {
   "cell_type": "code",
   "execution_count": 486,
   "metadata": {},
   "outputs": [
    {
     "data": {
      "text/plain": [
       "[0, 0, 0, 0, 0, 0, 0, 0, 0, 0]"
      ]
     },
     "execution_count": 486,
     "metadata": {},
     "output_type": "execute_result"
    }
   ],
   "source": [
    "# Getting the list of the Out Column so we can add it in the order we want into the balls_info dataframe\n",
    "out = balls_info['Out'].to_list()\n",
    "out[0:10]"
   ]
  },
  {
   "cell_type": "code",
   "execution_count": 487,
   "metadata": {},
   "outputs": [],
   "source": [
    "# Removing all the features that are going to be revised\n",
    "balls_info.drop(['Format'], axis = 1, inplace = True)\n",
    "balls_info.drop(['Game Location'], axis = 1, inplace = True)\n",
    "balls_info.drop(['Line'], axis = 1, inplace = True)\n",
    "balls_info.drop(['Length'], axis = 1, inplace = True)\n",
    "balls_info.drop(['Location'], axis = 1, inplace = True)\n",
    "balls_info.drop(['Bowling Style'], axis = 1, inplace = True)\n",
    "balls_info.drop(['Bounce'], axis = 1, inplace = True)\n",
    "\n",
    "# Removing these so we can decide the order in which the columns appear in our dataframe\n",
    "balls_info.drop(['Speed'], axis = 1, inplace = True)\n",
    "balls_info.drop(['Out'], axis = 1, inplace = True)"
   ]
  },
  {
   "cell_type": "code",
   "execution_count": 488,
   "metadata": {},
   "outputs": [
    {
     "data": {
      "text/plain": [
       "Index(['ODI', 'T20', 'Test', 'Australia', 'England', 'India', 'New Zealand',\n",
       "       'South Africa', 'Sri Lanka', 'USA', 'West Indies', 'left arm fast',\n",
       "       'left arm legbreak', 'left arm offbreak', 'right arm fast',\n",
       "       'right arm legbreak', 'right arm offbreak', 'Speed',\n",
       "       'Length: Back of a Length', 'Length: Full', 'Length: Good',\n",
       "       'Length: Short', 'Line: Leg Stump', 'Line: Legside',\n",
       "       'Line: Middle Stump', 'Line: Off Stump', 'Line: Offside',\n",
       "       'Line: Wide Outside Off', 'Bounce', 'Out'],\n",
       "      dtype='object')"
      ]
     },
     "execution_count": 488,
     "metadata": {},
     "output_type": "execute_result"
    }
   ],
   "source": [
    "# Adding all the features to the dataframe except Location\n",
    "# Not adding Location because it is categorical data so we want to One Hot Encode it, but we cannot because it has too many options\n",
    "# So, we may want to add it later if our model doesn't do well but there is a small chance that having that data will help anyway\n",
    "balls_info = pd.concat([balls_info, format_df], axis = 1)\n",
    "balls_info = pd.concat([balls_info, game_location_df], axis = 1)\n",
    "balls_info = pd.concat([balls_info, bowling_style_df], axis = 1)\n",
    "balls_info['Speed'] = speed\n",
    "balls_info = pd.concat([balls_info, length_df], axis = 1)\n",
    "balls_info = pd.concat([balls_info, line_df], axis = 1)\n",
    "balls_info['Bounce'] = bounce_encoded\n",
    "balls_info['Out'] = out\n",
    "balls_info.columns # 30 features"
   ]
  },
  {
   "cell_type": "markdown",
   "metadata": {},
   "source": [
    "### Checking for Independence Between Features"
   ]
  },
  {
   "cell_type": "code",
   "execution_count": 489,
   "metadata": {},
   "outputs": [
    {
     "data": {
      "text/plain": [
       "<AxesSubplot:>"
      ]
     },
     "execution_count": 489,
     "metadata": {},
     "output_type": "execute_result"
    },
    {
     "data": {
      "image/png": "[encoded data removed]",
      "text/plain": [
       "<Figure size 360x288 with 2 Axes>"
      ]
     },
     "metadata": {},
     "output_type": "display_data"
    }
   ],
   "source": [
    "sb.heatmap(balls_info.corr())"
   ]
  },
  {
   "cell_type": "code",
   "execution_count": 490,
   "metadata": {},
   "outputs": [],
   "source": [
    "# ODI and Test have high correlation but that doesn't matter because they are part of the same feature which we broke up\n",
    "# Line: Middle Stump and Line: Offisde have moderate correlation but doesn't matter because they are part of the same initial feature\n",
    "# Length: Full and Length: Good have high correlation but doesn't matter because they are part of the same initial feature\n",
    "# Bounce and Length: Short is correlated so we can remove Bounce since that feature isn't that important\n",
    "balls_info.drop(['Bounce'], axis = 1, inplace = True)"
   ]
  },
  {
   "cell_type": "markdown",
   "metadata": {},
   "source": [
    "### Checking if the Dataset Size is Sufficient"
   ]
  },
  {
   "cell_type": "code",
   "execution_count": 491,
   "metadata": {},
   "outputs": [
    {
     "data": {
      "text/plain": [
       "29"
      ]
     },
     "execution_count": 491,
     "metadata": {},
     "output_type": "execute_result"
    }
   ],
   "source": [
    "# Logistic Regression assumes that you have at least 50 values per predictive feature\n",
    "# There are 29 - 1 = 28 features\n",
    "len(balls_info.columns)"
   ]
  },
  {
   "cell_type": "code",
   "execution_count": 492,
   "metadata": {},
   "outputs": [
    {
     "name": "stdout",
     "output_type": "stream",
     "text": [
      "<class 'pandas.core.frame.DataFrame'>\n",
      "Int64Index: 10867 entries, 0 to 10866\n",
      "Data columns (total 29 columns):\n",
      " #   Column                    Non-Null Count  Dtype  \n",
      "---  ------                    --------------  -----  \n",
      " 0   ODI                       10867 non-null  float64\n",
      " 1   T20                       10867 non-null  float64\n",
      " 2   Test                      10867 non-null  float64\n",
      " 3   Australia                 10867 non-null  float64\n",
      " 4   England                   10867 non-null  float64\n",
      " 5   India                     10867 non-null  float64\n",
      " 6   New Zealand               10867 non-null  float64\n",
      " 7   South Africa              10867 non-null  float64\n",
      " 8   Sri Lanka                 10867 non-null  float64\n",
      " 9   USA                       10867 non-null  float64\n",
      " 10  West Indies               10867 non-null  float64\n",
      " 11  left arm fast             10867 non-null  float64\n",
      " 12  left arm legbreak         10867 non-null  float64\n",
      " 13  left arm offbreak         10867 non-null  float64\n",
      " 14  right arm fast            10867 non-null  float64\n",
      " 15  right arm legbreak        10867 non-null  float64\n",
      " 16  right arm offbreak        10867 non-null  float64\n",
      " 17  Speed                     10867 non-null  int64  \n",
      " 18  Length: Back of a Length  10867 non-null  float64\n",
      " 19  Length: Full              10867 non-null  float64\n",
      " 20  Length: Good              10867 non-null  float64\n",
      " 21  Length: Short             10867 non-null  float64\n",
      " 22  Line: Leg Stump           10867 non-null  float64\n",
      " 23  Line: Legside             10867 non-null  float64\n",
      " 24  Line: Middle Stump        10867 non-null  float64\n",
      " 25  Line: Off Stump           10867 non-null  float64\n",
      " 26  Line: Offside             10867 non-null  float64\n",
      " 27  Line: Wide Outside Off    10867 non-null  float64\n",
      " 28  Out                       10867 non-null  int64  \n",
      "dtypes: float64(27), int64(2)\n",
      "memory usage: 2.5 MB\n"
     ]
    }
   ],
   "source": [
    "# 28 * 50 = 1400 rows need to be there\n",
    "balls_info.info()"
   ]
  },
  {
   "cell_type": "markdown",
   "metadata": {},
   "source": [
    "# Saving the Prepared Dataframe as CSV for ML"
   ]
  },
  {
   "cell_type": "code",
   "execution_count": 493,
   "metadata": {},
   "outputs": [],
   "source": [
    "balls_info.to_csv('Prepared_for_ML_Data.csv')"
   ]
  }
 ],
 "metadata": {
  "interpreter": {
   "hash": "425927320cfd38c1f4d04dab592055e2380257b6c8d6532762caec5aa72862cb"
  },
  "kernelspec": {
   "display_name": "Python 3.9.7 ('base')",
   "language": "python",
   "name": "python3"
  },
  "language_info": {
   "codemirror_mode": {
    "name": "ipython",
    "version": 3
   },
   "file_extension": ".py",
   "mimetype": "text/x-python",
   "name": "python",
   "nbconvert_exporter": "python",
   "pygments_lexer": "ipython3",
   "version": "3.9.7"
  },
  "orig_nbformat": 4
 },
 "nbformat": 4,
 "nbformat_minor": 2
}
