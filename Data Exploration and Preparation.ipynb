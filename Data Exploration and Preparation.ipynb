{
 "cells": [
  {
   "cell_type": "markdown",
   "metadata": {},
   "source": [
    "# Imports"
   ]
  },
  {
   "cell_type": "code",
   "execution_count": null,
   "metadata": {},
   "outputs": [],
   "source": [
    "import pandas as pd\n",
    "import numpy as np\n",
    "\n",
    "from pandas.plotting import scatter_matrix\n",
    "\n",
    "import matplotlib.pyplot as plt\n",
    "from pylab import rcParams"
   ]
  },
  {
   "cell_type": "code",
   "execution_count": null,
   "metadata": {},
   "outputs": [],
   "source": [
    "%matplotlib inline\n",
    "rcParams['figure.figsize'] = 5, 4"
   ]
  },
  {
   "cell_type": "code",
   "execution_count": null,
   "metadata": {},
   "outputs": [],
   "source": [
    "import seaborn as sb\n",
    "sb.set_style('whitegrid')"
   ]
  },
  {
   "cell_type": "markdown",
   "metadata": {},
   "source": [
    "# Getting Dataframe"
   ]
  },
  {
   "cell_type": "code",
   "execution_count": null,
   "metadata": {},
   "outputs": [],
   "source": [
    "path = r'C:\\Users\\Mohit\\Desktop\\ML-Cricket-Integration-Project\\Data\\Engineered_Balls_Data.csv'\n",
    "balls_info = pd.read_csv(path)"
   ]
  },
  {
   "cell_type": "markdown",
   "metadata": {},
   "source": [
    "# Data Filteration"
   ]
  },
  {
   "cell_type": "code",
   "execution_count": null,
   "metadata": {},
   "outputs": [],
   "source": [
    "balls_info.head()"
   ]
  },
  {
   "cell_type": "code",
   "execution_count": null,
   "metadata": {},
   "outputs": [],
   "source": [
    "# Removing the Unnamed: 0 row because it was useless\n",
    "balls_info = balls_info.drop(columns = ['Unnamed: 0'])\n",
    "balls_info.head()"
   ]
  },
  {
   "cell_type": "code",
   "execution_count": null,
   "metadata": {},
   "outputs": [],
   "source": [
    "balls_info.info()"
   ]
  },
  {
   "cell_type": "code",
   "execution_count": null,
   "metadata": {},
   "outputs": [],
   "source": [
    "# Want to remove the data where bowling style is null (in this case, the speed will be -1)\n",
    "balls_info.dropna(inplace = True)"
   ]
  },
  {
   "cell_type": "code",
   "execution_count": null,
   "metadata": {},
   "outputs": [],
   "source": [
    "# We don't want any null values\n",
    "balls_info.isnull().sum()"
   ]
  },
  {
   "cell_type": "code",
   "execution_count": null,
   "metadata": {},
   "outputs": [],
   "source": [
    "len(balls_info[balls_info['Speed'] == -1])"
   ]
  },
  {
   "cell_type": "code",
   "execution_count": null,
   "metadata": {},
   "outputs": [],
   "source": [
    "# Removing the rows where speed is not found\n",
    "balls_info.drop(balls_info[balls_info['Speed'] == -1].index, inplace = True)"
   ]
  },
  {
   "cell_type": "code",
   "execution_count": null,
   "metadata": {},
   "outputs": [],
   "source": [
    "len(balls_info[balls_info['Speed'] == -1])"
   ]
  },
  {
   "cell_type": "code",
   "execution_count": null,
   "metadata": {},
   "outputs": [],
   "source": [
    "# Notice how the minimum for Speed is 0 which doesn't make sense\n",
    "balls_info.describe()"
   ]
  },
  {
   "cell_type": "code",
   "execution_count": null,
   "metadata": {},
   "outputs": [],
   "source": [
    "# Removing the rows where the speed is 0\n",
    "balls_info.drop(balls_info[balls_info['Speed'] == 0].index, inplace = True)"
   ]
  },
  {
   "cell_type": "code",
   "execution_count": null,
   "metadata": {},
   "outputs": [],
   "source": [
    "# Still, the minimum for speed is 1 which doesn't make any sense\n",
    "balls_info.describe()"
   ]
  },
  {
   "cell_type": "code",
   "execution_count": null,
   "metadata": {},
   "outputs": [],
   "source": [
    "balls_info.drop(balls_info[balls_info['Speed'] == 1].index, inplace = True)"
   ]
  },
  {
   "cell_type": "code",
   "execution_count": null,
   "metadata": {},
   "outputs": [],
   "source": [
    "# Now all the values make sense\n",
    "balls_info.describe()"
   ]
  },
  {
   "cell_type": "code",
   "execution_count": null,
   "metadata": {},
   "outputs": [],
   "source": [
    "# After all these edits, we need to fix the index of balls_info\n",
    "balls_info.index = np.arange(0, len(balls_info))"
   ]
  },
  {
   "cell_type": "markdown",
   "metadata": {},
   "source": [
    "# Data Exploration"
   ]
  },
  {
   "cell_type": "code",
   "execution_count": null,
   "metadata": {},
   "outputs": [],
   "source": [
    "balls_info.columns"
   ]
  },
  {
   "cell_type": "code",
   "execution_count": null,
   "metadata": {},
   "outputs": [],
   "source": [
    "na_speed = len(balls_info[balls_info['Speed'] == -1])\n",
    "na_speed / len(balls_info) * 100 # percent of data for speed that is not available"
   ]
  },
  {
   "cell_type": "code",
   "execution_count": null,
   "metadata": {},
   "outputs": [],
   "source": [
    "# Creating the wickets dataframe, in which only the wicket balls consist\n",
    "wicket_info = balls_info[balls_info['Out'] == 1]\n",
    "\n",
    "# Fixing the index of the dataframe\n",
    "wicket_info.index = np.arange(0, len(wicket_info))\n",
    "wicket_info"
   ]
  },
  {
   "cell_type": "code",
   "execution_count": null,
   "metadata": {},
   "outputs": [],
   "source": [
    "wicket_na_speed = len(wicket_info[wicket_info['Speed'] == -1])\n",
    "wicket_na_speed / len(wicket_info) * 100 # percent of wicket data for which speed is not available"
   ]
  },
  {
   "cell_type": "code",
   "execution_count": null,
   "metadata": {},
   "outputs": [],
   "source": [
    "# Is there a specific line which Virat Kohli gets out a lot on?\n",
    "line = wicket_info['Line']\n",
    "sb.displot(line)"
   ]
  },
  {
   "cell_type": "code",
   "execution_count": null,
   "metadata": {},
   "outputs": [],
   "source": [
    "# Is there a specific length which Virat Kohli gets out a lot on?\n",
    "length = wicket_info['Length']\n",
    "sb.histplot(length)"
   ]
  },
  {
   "cell_type": "code",
   "execution_count": null,
   "metadata": {},
   "outputs": [],
   "source": [
    "# Do faster balls get Virat Kohli out more often?\n",
    "speed = wicket_info['Speed']\n",
    "sb.histplot(speed)"
   ]
  },
  {
   "cell_type": "markdown",
   "metadata": {},
   "source": [
    "# Logistic Regression"
   ]
  },
  {
   "cell_type": "code",
   "execution_count": null,
   "metadata": {},
   "outputs": [],
   "source": [
    "import sklearn\n",
    "from sklearn import preprocessing"
   ]
  },
  {
   "cell_type": "code",
   "execution_count": null,
   "metadata": {},
   "outputs": [],
   "source": [
    "from sklearn.linear_model import LogisticRegression\n",
    "from sklearn.model_selection import train_test_split\n",
    "from sklearn.model_selection import cross_val_predict\n",
    "\n",
    "from sklearn import metrics\n",
    "from sklearn.metrics import classification_report\n",
    "from sklearn.metrics import confusion_matrix\n",
    "from sklearn.metrics import precision_score, recall_score"
   ]
  },
  {
   "cell_type": "code",
   "execution_count": null,
   "metadata": {},
   "outputs": [],
   "source": [
    "from sklearn.preprocessing import LabelEncoder\n",
    "from sklearn.preprocessing import OneHotEncoder"
   ]
  },
  {
   "cell_type": "code",
   "execution_count": null,
   "metadata": {},
   "outputs": [],
   "source": [
    "balls_info.info()"
   ]
  },
  {
   "cell_type": "markdown",
   "metadata": {},
   "source": [
    "## Checking the Conditions for Logistic Regression"
   ]
  },
  {
   "cell_type": "markdown",
   "metadata": {},
   "source": [
    "### Checking that Target Variable is Binary"
   ]
  },
  {
   "cell_type": "code",
   "execution_count": null,
   "metadata": {},
   "outputs": [],
   "source": [
    "sb.countplot(x = 'Out', data = balls_info, palette = 'hls')"
   ]
  },
  {
   "cell_type": "markdown",
   "metadata": {},
   "source": [
    "### Checking and Taking Care of Missing Values"
   ]
  },
  {
   "cell_type": "code",
   "execution_count": null,
   "metadata": {},
   "outputs": [],
   "source": [
    "# No null values\n",
    "balls_info.isnull().sum()"
   ]
  },
  {
   "cell_type": "code",
   "execution_count": null,
   "metadata": {},
   "outputs": [],
   "source": [
    "# Everything looks good\n",
    "balls_info.describe()"
   ]
  },
  {
   "cell_type": "markdown",
   "metadata": {},
   "source": [
    "### Converting Categorical Variables to Dummy Indicators"
   ]
  },
  {
   "cell_type": "code",
   "execution_count": null,
   "metadata": {},
   "outputs": [],
   "source": [
    "# Since there are a fixed number of columns, we can use One Hot Encoding in this case\n",
    "# Also the data isn't ordinal\n",
    "balls_info['Format'].unique()"
   ]
  },
  {
   "cell_type": "code",
   "execution_count": null,
   "metadata": {},
   "outputs": [],
   "source": [
    "# There are too many options so we shouldn't use One Hot Encoding as it can increase memory usage and computation times\n",
    "balls_info['Game Location'].unique()"
   ]
  },
  {
   "cell_type": "code",
   "execution_count": null,
   "metadata": {},
   "outputs": [],
   "source": [
    "# We can use One Hot Encoding in this case because there are not too many choices\n",
    "# The data isn't ordinal either\n",
    "balls_info['Line'].unique()"
   ]
  },
  {
   "cell_type": "code",
   "execution_count": null,
   "metadata": {},
   "outputs": [],
   "source": [
    "# Here also we can use One Hot Encoding as the data is not ordinal and there are only 4 choices\n",
    "balls_info['Length'].unique()"
   ]
  },
  {
   "cell_type": "code",
   "execution_count": null,
   "metadata": {},
   "outputs": [],
   "source": [
    "# Too many options so we shouldn't use One Hot Encoding\n",
    "balls_info['Location'].unique()"
   ]
  },
  {
   "cell_type": "code",
   "execution_count": null,
   "metadata": {},
   "outputs": [],
   "source": [
    "# Again, too many options so using One Hot Encoding isn't going to be useful\n",
    "balls_info['Bowling Style'].unique()"
   ]
  },
  {
   "cell_type": "code",
   "execution_count": null,
   "metadata": {},
   "outputs": [],
   "source": [
    "# Only a few options for this but this could be ordinal data so we shouldn't use One Hot Encoding\n",
    "balls_info['Bounce'].unique()"
   ]
  },
  {
   "cell_type": "code",
   "execution_count": null,
   "metadata": {},
   "outputs": [],
   "source": [
    "label_encoder = LabelEncoder()\n",
    "binary_encoder = OneHotEncoder(categories = 'auto')"
   ]
  },
  {
   "cell_type": "code",
   "execution_count": null,
   "metadata": {},
   "outputs": [],
   "source": [
    "# Converting Format Feature to Binary Features\n",
    "format_categorical = balls_info['Format']\n",
    "format_encoded = label_encoder.fit_transform(format_categorical)\n",
    "\n",
    "format_1hot = binary_encoder.fit_transform(format_encoded.reshape(-1, 1))\n",
    "format_1hot_matrix = format_1hot.toarray()\n",
    "format_df = pd.DataFrame(format_1hot_matrix, columns = ['ODI', 'T20', 'Test'])\n",
    "format_df.head()"
   ]
  },
  {
   "cell_type": "code",
   "execution_count": null,
   "metadata": {},
   "outputs": [],
   "source": [
    "# Converting Game Location Feature to Numbers\n",
    "game_location_categorical = balls_info['Game Location']\n",
    "game_location_encoded = label_encoder.fit_transform(game_location_categorical)\n",
    "game_location_encoded[0:10]"
   ]
  },
  {
   "cell_type": "code",
   "execution_count": null,
   "metadata": {},
   "outputs": [],
   "source": [
    "# The index is the encoded value for the specific Game Location\n",
    "label_encoder.classes_"
   ]
  },
  {
   "cell_type": "code",
   "execution_count": null,
   "metadata": {},
   "outputs": [],
   "source": [
    "# Converting Line Feature to Binary Features\n",
    "line_categorical = balls_info['Line']\n",
    "line_encoded = label_encoder.fit_transform(line_categorical)\n",
    "\n",
    "line_1hot = binary_encoder.fit_transform(line_encoded.reshape(-1, 1))\n",
    "line_1hot_matrix = line_1hot.toarray()\n",
    "line_df = pd.DataFrame(line_1hot_matrix, columns = ['Line: Leg Stump', 'Line: Legside', 'Line: Middle Stump', 'Line: Off Stump', 'Line: Offside', 'Line: Wide Outside Off'])\n",
    "line_df.head()"
   ]
  },
  {
   "cell_type": "code",
   "execution_count": null,
   "metadata": {},
   "outputs": [],
   "source": [
    "# Converting Length Feature to Binary Features\n",
    "length_categorical = balls_info['Length']\n",
    "length_encoded = label_encoder.fit_transform(length_categorical)\n",
    "\n",
    "length_1hot = binary_encoder.fit_transform(length_encoded.reshape(-1, 1))\n",
    "length_1hot_matrix = length_1hot.toarray()\n",
    "length_df = pd.DataFrame(length_1hot_matrix, columns = ['Length: Back of a Length', 'Length: Full', 'Length: Good', 'Length: Short'])\n",
    "length_df.head()"
   ]
  },
  {
   "cell_type": "code",
   "execution_count": null,
   "metadata": {},
   "outputs": [],
   "source": [
    "# Converting Location Feature to Numbers\n",
    "location_categorical = balls_info['Location']\n",
    "location_encoded = label_encoder.fit_transform(location_categorical)\n",
    "location_encoded[0:10]"
   ]
  },
  {
   "cell_type": "code",
   "execution_count": null,
   "metadata": {},
   "outputs": [],
   "source": [
    "# The indexes are the encoded values for each of the locations\n",
    "label_encoder.classes_"
   ]
  },
  {
   "cell_type": "code",
   "execution_count": null,
   "metadata": {},
   "outputs": [],
   "source": [
    "# Converting Bowling Style Feature to Numbers\n",
    "bowling_style_categorical = balls_info['Bowling Style']\n",
    "bowling_style_encoded = label_encoder.fit_transform(bowling_style_categorical)\n",
    "bowling_style_encoded[0:10]"
   ]
  },
  {
   "cell_type": "code",
   "execution_count": null,
   "metadata": {},
   "outputs": [],
   "source": [
    "# The indexes are the encoded values for each of the bowling styles\n",
    "label_encoder.classes_"
   ]
  },
  {
   "cell_type": "code",
   "execution_count": null,
   "metadata": {},
   "outputs": [],
   "source": [
    "# Converting Bounce Feature to Numbers\n",
    "bounce_categorical = balls_info['Bounce']\n",
    "bounce_encoded = label_encoder.fit_transform(bounce_categorical)\n",
    "bounce_encoded[0:10]"
   ]
  },
  {
   "cell_type": "code",
   "execution_count": null,
   "metadata": {},
   "outputs": [],
   "source": [
    "# The indexes are encoded values for each of the bounce increments\n",
    "label_encoder.classes_"
   ]
  },
  {
   "cell_type": "code",
   "execution_count": null,
   "metadata": {},
   "outputs": [],
   "source": [
    "# Getting the list of the Speed Column so we can add it in the order we want into the balls_info dataframe\n",
    "speed = balls_info['Speed'].to_list()\n",
    "speed[0:10]"
   ]
  },
  {
   "cell_type": "code",
   "execution_count": null,
   "metadata": {},
   "outputs": [],
   "source": [
    "# Getting the list of the Out Column so we can add it in the order we want into the balls_info dataframe\n",
    "out = balls_info['Out'].to_list()\n",
    "out[0:10]"
   ]
  },
  {
   "cell_type": "code",
   "execution_count": null,
   "metadata": {},
   "outputs": [],
   "source": [
    "# Removing all the features that are going to be revised\n",
    "balls_info.drop(['Format'], axis = 1, inplace = True)\n",
    "balls_info.drop(['Game Location'], axis = 1, inplace = True)\n",
    "balls_info.drop(['Line'], axis = 1, inplace = True)\n",
    "balls_info.drop(['Length'], axis = 1, inplace = True)\n",
    "balls_info.drop(['Location'], axis = 1, inplace = True)\n",
    "balls_info.drop(['Bowling Style'], axis = 1, inplace = True)\n",
    "balls_info.drop(['Bounce'], axis = 1, inplace = True)\n",
    "\n",
    "# Removing these so we can decide the order in which the columns appear in our dataframe\n",
    "balls_info.drop(['Speed'], axis = 1, inplace = True)\n",
    "balls_info.drop(['Out'], axis = 1, inplace = True)"
   ]
  },
  {
   "cell_type": "code",
   "execution_count": null,
   "metadata": {},
   "outputs": [],
   "source": [
    "# Adding all the features to the dataframe\n",
    "balls_info = pd.concat([balls_info, format_df], axis = 1)\n",
    "balls_info['Game Location'] = game_location_encoded\n",
    "balls_info['Bowling Style'] = bowling_style_encoded\n",
    "balls_info['Speed'] = speed\n",
    "balls_info = pd.concat([balls_info, length_df], axis = 1)\n",
    "balls_info = pd.concat([balls_info, line_df], axis = 1)\n",
    "balls_info['Bounce'] = bounce_encoded\n",
    "balls_info['Out'] = out\n",
    "balls_info"
   ]
  },
  {
   "cell_type": "markdown",
   "metadata": {},
   "source": [
    "### Checking for Independence Between Features"
   ]
  },
  {
   "cell_type": "code",
   "execution_count": null,
   "metadata": {},
   "outputs": [],
   "source": [
    "sb.heatmap(balls_info.corr())"
   ]
  },
  {
   "cell_type": "code",
   "execution_count": null,
   "metadata": {},
   "outputs": [],
   "source": [
    "# ODI and Test have high correlation but that doesn't matter because they are part of the same feature which we broke up\n",
    "# Line: Middle Stump and Line: Offisde have moderate correlation but doesn't matter because they are part of the same initial feature\n",
    "# Length: Full and Length: Good have high correlation but doesn't matter because they are part of the same initial feature\n",
    "# Bounce and Length: Short are correlated so we can remove Bounce since that feature isn't that important\n",
    "balls_info.drop(['Bounce'], axis = 1, inplace = True)"
   ]
  },
  {
   "cell_type": "markdown",
   "metadata": {},
   "source": [
    "### Checking if the Dataset Size is Sufficient"
   ]
  },
  {
   "cell_type": "code",
   "execution_count": null,
   "metadata": {},
   "outputs": [],
   "source": [
    "# Logistic Regression assumes that you have at least 50 values per predictive feature\n",
    "balls_info.head() # 16 features"
   ]
  },
  {
   "cell_type": "code",
   "execution_count": null,
   "metadata": {},
   "outputs": [],
   "source": [
    "# 16 * 50 = 800 rows need to be there\n",
    "balls_info.info()"
   ]
  },
  {
   "cell_type": "markdown",
   "metadata": {},
   "source": [
    "# Saving the Prepared Dataframe as CSV for ML"
   ]
  },
  {
   "cell_type": "code",
   "execution_count": null,
   "metadata": {},
   "outputs": [],
   "source": [
    "balls_info.to_csv('Prepared_for_ML_Data.csv')"
   ]
  }
 ],
 "metadata": {
  "interpreter": {
   "hash": "425927320cfd38c1f4d04dab592055e2380257b6c8d6532762caec5aa72862cb"
  },
  "kernelspec": {
   "display_name": "Python 3.9.7 ('base')",
   "language": "python",
   "name": "python3"
  },
  "language_info": {
   "codemirror_mode": {
    "name": "ipython",
    "version": 3
   },
   "file_extension": ".py",
   "mimetype": "text/x-python",
   "name": "python",
   "nbconvert_exporter": "python",
   "pygments_lexer": "ipython3",
   "version": "3.9.7"
  },
  "orig_nbformat": 4
 },
 "nbformat": 4,
 "nbformat_minor": 2
}
