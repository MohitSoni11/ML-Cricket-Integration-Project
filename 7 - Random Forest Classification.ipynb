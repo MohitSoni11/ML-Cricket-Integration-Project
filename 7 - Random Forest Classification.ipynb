{
 "cells": [
  {
   "cell_type": "markdown",
   "metadata": {},
   "source": [
    "# Imports"
   ]
  },
  {
   "cell_type": "code",
   "execution_count": 119,
   "metadata": {},
   "outputs": [],
   "source": [
    "import pandas as pd\n",
    "import numpy as np\n",
    "\n",
    "from pandas.plotting import scatter_matrix\n",
    "\n",
    "import matplotlib.pyplot as plt\n",
    "from pylab import rcParams"
   ]
  },
  {
   "cell_type": "code",
   "execution_count": 120,
   "metadata": {},
   "outputs": [],
   "source": [
    "import sklearn\n",
    "from sklearn import preprocessing\n",
    "\n",
    "from sklearn.model_selection import train_test_split\n",
    "from sklearn.model_selection import cross_val_predict\n",
    "\n",
    "from sklearn import metrics\n",
    "from sklearn.metrics import classification_report\n",
    "from sklearn.metrics import confusion_matrix, roc_auc_score, roc_curve\n",
    "from sklearn.metrics import accuracy_score, precision_score, recall_score"
   ]
  },
  {
   "cell_type": "markdown",
   "metadata": {},
   "source": [
    "# Getting Dataframe from Data"
   ]
  },
  {
   "cell_type": "code",
   "execution_count": 121,
   "metadata": {},
   "outputs": [],
   "source": [
    "path = r'C:\\Users\\Mohit\\Desktop\\ML-Cricket-Integration-Project\\Data\\Prepared_for_ML_Data.csv'\n",
    "player_balls = pd.read_csv(path)"
   ]
  },
  {
   "cell_type": "code",
   "execution_count": 122,
   "metadata": {},
   "outputs": [
    {
     "data": {
      "text/html": [
       "<div>\n",
       "<style scoped>\n",
       "    .dataframe tbody tr th:only-of-type {\n",
       "        vertical-align: middle;\n",
       "    }\n",
       "\n",
       "    .dataframe tbody tr th {\n",
       "        vertical-align: top;\n",
       "    }\n",
       "\n",
       "    .dataframe thead th {\n",
       "        text-align: right;\n",
       "    }\n",
       "</style>\n",
       "<table border=\"1\" class=\"dataframe\">\n",
       "  <thead>\n",
       "    <tr style=\"text-align: right;\">\n",
       "      <th></th>\n",
       "      <th>Unnamed: 0</th>\n",
       "      <th>ODI</th>\n",
       "      <th>T20</th>\n",
       "      <th>Test</th>\n",
       "      <th>Australia</th>\n",
       "      <th>England</th>\n",
       "      <th>India</th>\n",
       "      <th>New Zealand</th>\n",
       "      <th>South Africa</th>\n",
       "      <th>Sri Lanka</th>\n",
       "      <th>...</th>\n",
       "      <th>Length: Full</th>\n",
       "      <th>Length: Good</th>\n",
       "      <th>Length: Short</th>\n",
       "      <th>Line: Leg Stump</th>\n",
       "      <th>Line: Legside</th>\n",
       "      <th>Line: Middle Stump</th>\n",
       "      <th>Line: Off Stump</th>\n",
       "      <th>Line: Offside</th>\n",
       "      <th>Line: Wide Outside Off</th>\n",
       "      <th>Out</th>\n",
       "    </tr>\n",
       "  </thead>\n",
       "  <tbody>\n",
       "    <tr>\n",
       "      <th>0</th>\n",
       "      <td>0</td>\n",
       "      <td>0.0</td>\n",
       "      <td>0.0</td>\n",
       "      <td>1.0</td>\n",
       "      <td>0.0</td>\n",
       "      <td>0.0</td>\n",
       "      <td>1.0</td>\n",
       "      <td>0.0</td>\n",
       "      <td>0.0</td>\n",
       "      <td>0.0</td>\n",
       "      <td>...</td>\n",
       "      <td>0.0</td>\n",
       "      <td>0.0</td>\n",
       "      <td>1.0</td>\n",
       "      <td>0.0</td>\n",
       "      <td>0.0</td>\n",
       "      <td>0.0</td>\n",
       "      <td>0.0</td>\n",
       "      <td>0.0</td>\n",
       "      <td>1.0</td>\n",
       "      <td>0</td>\n",
       "    </tr>\n",
       "    <tr>\n",
       "      <th>1</th>\n",
       "      <td>1</td>\n",
       "      <td>0.0</td>\n",
       "      <td>0.0</td>\n",
       "      <td>1.0</td>\n",
       "      <td>0.0</td>\n",
       "      <td>0.0</td>\n",
       "      <td>1.0</td>\n",
       "      <td>0.0</td>\n",
       "      <td>0.0</td>\n",
       "      <td>0.0</td>\n",
       "      <td>...</td>\n",
       "      <td>1.0</td>\n",
       "      <td>0.0</td>\n",
       "      <td>0.0</td>\n",
       "      <td>0.0</td>\n",
       "      <td>0.0</td>\n",
       "      <td>1.0</td>\n",
       "      <td>0.0</td>\n",
       "      <td>0.0</td>\n",
       "      <td>0.0</td>\n",
       "      <td>0</td>\n",
       "    </tr>\n",
       "    <tr>\n",
       "      <th>2</th>\n",
       "      <td>2</td>\n",
       "      <td>0.0</td>\n",
       "      <td>0.0</td>\n",
       "      <td>1.0</td>\n",
       "      <td>0.0</td>\n",
       "      <td>0.0</td>\n",
       "      <td>1.0</td>\n",
       "      <td>0.0</td>\n",
       "      <td>0.0</td>\n",
       "      <td>0.0</td>\n",
       "      <td>...</td>\n",
       "      <td>1.0</td>\n",
       "      <td>0.0</td>\n",
       "      <td>0.0</td>\n",
       "      <td>0.0</td>\n",
       "      <td>0.0</td>\n",
       "      <td>1.0</td>\n",
       "      <td>0.0</td>\n",
       "      <td>0.0</td>\n",
       "      <td>0.0</td>\n",
       "      <td>0</td>\n",
       "    </tr>\n",
       "    <tr>\n",
       "      <th>3</th>\n",
       "      <td>3</td>\n",
       "      <td>0.0</td>\n",
       "      <td>0.0</td>\n",
       "      <td>1.0</td>\n",
       "      <td>0.0</td>\n",
       "      <td>0.0</td>\n",
       "      <td>1.0</td>\n",
       "      <td>0.0</td>\n",
       "      <td>0.0</td>\n",
       "      <td>0.0</td>\n",
       "      <td>...</td>\n",
       "      <td>0.0</td>\n",
       "      <td>1.0</td>\n",
       "      <td>0.0</td>\n",
       "      <td>0.0</td>\n",
       "      <td>0.0</td>\n",
       "      <td>0.0</td>\n",
       "      <td>0.0</td>\n",
       "      <td>1.0</td>\n",
       "      <td>0.0</td>\n",
       "      <td>0</td>\n",
       "    </tr>\n",
       "    <tr>\n",
       "      <th>4</th>\n",
       "      <td>4</td>\n",
       "      <td>0.0</td>\n",
       "      <td>0.0</td>\n",
       "      <td>1.0</td>\n",
       "      <td>0.0</td>\n",
       "      <td>0.0</td>\n",
       "      <td>1.0</td>\n",
       "      <td>0.0</td>\n",
       "      <td>0.0</td>\n",
       "      <td>0.0</td>\n",
       "      <td>...</td>\n",
       "      <td>0.0</td>\n",
       "      <td>0.0</td>\n",
       "      <td>0.0</td>\n",
       "      <td>0.0</td>\n",
       "      <td>0.0</td>\n",
       "      <td>0.0</td>\n",
       "      <td>1.0</td>\n",
       "      <td>0.0</td>\n",
       "      <td>0.0</td>\n",
       "      <td>0</td>\n",
       "    </tr>\n",
       "  </tbody>\n",
       "</table>\n",
       "<p>5 rows × 30 columns</p>\n",
       "</div>"
      ],
      "text/plain": [
       "   Unnamed: 0  ODI  T20  Test  Australia  England  India  New Zealand  \\\n",
       "0           0  0.0  0.0   1.0        0.0      0.0    1.0          0.0   \n",
       "1           1  0.0  0.0   1.0        0.0      0.0    1.0          0.0   \n",
       "2           2  0.0  0.0   1.0        0.0      0.0    1.0          0.0   \n",
       "3           3  0.0  0.0   1.0        0.0      0.0    1.0          0.0   \n",
       "4           4  0.0  0.0   1.0        0.0      0.0    1.0          0.0   \n",
       "\n",
       "   South Africa  Sri Lanka  ...  Length: Full  Length: Good  Length: Short  \\\n",
       "0           0.0        0.0  ...           0.0           0.0            1.0   \n",
       "1           0.0        0.0  ...           1.0           0.0            0.0   \n",
       "2           0.0        0.0  ...           1.0           0.0            0.0   \n",
       "3           0.0        0.0  ...           0.0           1.0            0.0   \n",
       "4           0.0        0.0  ...           0.0           0.0            0.0   \n",
       "\n",
       "   Line: Leg Stump  Line: Legside  Line: Middle Stump  Line: Off Stump  \\\n",
       "0              0.0            0.0                 0.0              0.0   \n",
       "1              0.0            0.0                 1.0              0.0   \n",
       "2              0.0            0.0                 1.0              0.0   \n",
       "3              0.0            0.0                 0.0              0.0   \n",
       "4              0.0            0.0                 0.0              1.0   \n",
       "\n",
       "   Line: Offside  Line: Wide Outside Off  Out  \n",
       "0            0.0                     1.0    0  \n",
       "1            0.0                     0.0    0  \n",
       "2            0.0                     0.0    0  \n",
       "3            1.0                     0.0    0  \n",
       "4            0.0                     0.0    0  \n",
       "\n",
       "[5 rows x 30 columns]"
      ]
     },
     "execution_count": 122,
     "metadata": {},
     "output_type": "execute_result"
    }
   ],
   "source": [
    "player_balls.head()"
   ]
  },
  {
   "cell_type": "code",
   "execution_count": 123,
   "metadata": {},
   "outputs": [
    {
     "data": {
      "text/html": [
       "<div>\n",
       "<style scoped>\n",
       "    .dataframe tbody tr th:only-of-type {\n",
       "        vertical-align: middle;\n",
       "    }\n",
       "\n",
       "    .dataframe tbody tr th {\n",
       "        vertical-align: top;\n",
       "    }\n",
       "\n",
       "    .dataframe thead th {\n",
       "        text-align: right;\n",
       "    }\n",
       "</style>\n",
       "<table border=\"1\" class=\"dataframe\">\n",
       "  <thead>\n",
       "    <tr style=\"text-align: right;\">\n",
       "      <th></th>\n",
       "      <th>ODI</th>\n",
       "      <th>T20</th>\n",
       "      <th>Test</th>\n",
       "      <th>Australia</th>\n",
       "      <th>England</th>\n",
       "      <th>India</th>\n",
       "      <th>New Zealand</th>\n",
       "      <th>South Africa</th>\n",
       "      <th>Sri Lanka</th>\n",
       "      <th>USA</th>\n",
       "      <th>...</th>\n",
       "      <th>Length: Full</th>\n",
       "      <th>Length: Good</th>\n",
       "      <th>Length: Short</th>\n",
       "      <th>Line: Leg Stump</th>\n",
       "      <th>Line: Legside</th>\n",
       "      <th>Line: Middle Stump</th>\n",
       "      <th>Line: Off Stump</th>\n",
       "      <th>Line: Offside</th>\n",
       "      <th>Line: Wide Outside Off</th>\n",
       "      <th>Out</th>\n",
       "    </tr>\n",
       "  </thead>\n",
       "  <tbody>\n",
       "    <tr>\n",
       "      <th>0</th>\n",
       "      <td>0.0</td>\n",
       "      <td>0.0</td>\n",
       "      <td>1.0</td>\n",
       "      <td>0.0</td>\n",
       "      <td>0.0</td>\n",
       "      <td>1.0</td>\n",
       "      <td>0.0</td>\n",
       "      <td>0.0</td>\n",
       "      <td>0.0</td>\n",
       "      <td>0.0</td>\n",
       "      <td>...</td>\n",
       "      <td>0.0</td>\n",
       "      <td>0.0</td>\n",
       "      <td>1.0</td>\n",
       "      <td>0.0</td>\n",
       "      <td>0.0</td>\n",
       "      <td>0.0</td>\n",
       "      <td>0.0</td>\n",
       "      <td>0.0</td>\n",
       "      <td>1.0</td>\n",
       "      <td>0</td>\n",
       "    </tr>\n",
       "    <tr>\n",
       "      <th>1</th>\n",
       "      <td>0.0</td>\n",
       "      <td>0.0</td>\n",
       "      <td>1.0</td>\n",
       "      <td>0.0</td>\n",
       "      <td>0.0</td>\n",
       "      <td>1.0</td>\n",
       "      <td>0.0</td>\n",
       "      <td>0.0</td>\n",
       "      <td>0.0</td>\n",
       "      <td>0.0</td>\n",
       "      <td>...</td>\n",
       "      <td>1.0</td>\n",
       "      <td>0.0</td>\n",
       "      <td>0.0</td>\n",
       "      <td>0.0</td>\n",
       "      <td>0.0</td>\n",
       "      <td>1.0</td>\n",
       "      <td>0.0</td>\n",
       "      <td>0.0</td>\n",
       "      <td>0.0</td>\n",
       "      <td>0</td>\n",
       "    </tr>\n",
       "    <tr>\n",
       "      <th>2</th>\n",
       "      <td>0.0</td>\n",
       "      <td>0.0</td>\n",
       "      <td>1.0</td>\n",
       "      <td>0.0</td>\n",
       "      <td>0.0</td>\n",
       "      <td>1.0</td>\n",
       "      <td>0.0</td>\n",
       "      <td>0.0</td>\n",
       "      <td>0.0</td>\n",
       "      <td>0.0</td>\n",
       "      <td>...</td>\n",
       "      <td>1.0</td>\n",
       "      <td>0.0</td>\n",
       "      <td>0.0</td>\n",
       "      <td>0.0</td>\n",
       "      <td>0.0</td>\n",
       "      <td>1.0</td>\n",
       "      <td>0.0</td>\n",
       "      <td>0.0</td>\n",
       "      <td>0.0</td>\n",
       "      <td>0</td>\n",
       "    </tr>\n",
       "    <tr>\n",
       "      <th>3</th>\n",
       "      <td>0.0</td>\n",
       "      <td>0.0</td>\n",
       "      <td>1.0</td>\n",
       "      <td>0.0</td>\n",
       "      <td>0.0</td>\n",
       "      <td>1.0</td>\n",
       "      <td>0.0</td>\n",
       "      <td>0.0</td>\n",
       "      <td>0.0</td>\n",
       "      <td>0.0</td>\n",
       "      <td>...</td>\n",
       "      <td>0.0</td>\n",
       "      <td>1.0</td>\n",
       "      <td>0.0</td>\n",
       "      <td>0.0</td>\n",
       "      <td>0.0</td>\n",
       "      <td>0.0</td>\n",
       "      <td>0.0</td>\n",
       "      <td>1.0</td>\n",
       "      <td>0.0</td>\n",
       "      <td>0</td>\n",
       "    </tr>\n",
       "    <tr>\n",
       "      <th>4</th>\n",
       "      <td>0.0</td>\n",
       "      <td>0.0</td>\n",
       "      <td>1.0</td>\n",
       "      <td>0.0</td>\n",
       "      <td>0.0</td>\n",
       "      <td>1.0</td>\n",
       "      <td>0.0</td>\n",
       "      <td>0.0</td>\n",
       "      <td>0.0</td>\n",
       "      <td>0.0</td>\n",
       "      <td>...</td>\n",
       "      <td>0.0</td>\n",
       "      <td>0.0</td>\n",
       "      <td>0.0</td>\n",
       "      <td>0.0</td>\n",
       "      <td>0.0</td>\n",
       "      <td>0.0</td>\n",
       "      <td>1.0</td>\n",
       "      <td>0.0</td>\n",
       "      <td>0.0</td>\n",
       "      <td>0</td>\n",
       "    </tr>\n",
       "  </tbody>\n",
       "</table>\n",
       "<p>5 rows × 29 columns</p>\n",
       "</div>"
      ],
      "text/plain": [
       "   ODI  T20  Test  Australia  England  India  New Zealand  South Africa  \\\n",
       "0  0.0  0.0   1.0        0.0      0.0    1.0          0.0           0.0   \n",
       "1  0.0  0.0   1.0        0.0      0.0    1.0          0.0           0.0   \n",
       "2  0.0  0.0   1.0        0.0      0.0    1.0          0.0           0.0   \n",
       "3  0.0  0.0   1.0        0.0      0.0    1.0          0.0           0.0   \n",
       "4  0.0  0.0   1.0        0.0      0.0    1.0          0.0           0.0   \n",
       "\n",
       "   Sri Lanka  USA  ...  Length: Full  Length: Good  Length: Short  \\\n",
       "0        0.0  0.0  ...           0.0           0.0            1.0   \n",
       "1        0.0  0.0  ...           1.0           0.0            0.0   \n",
       "2        0.0  0.0  ...           1.0           0.0            0.0   \n",
       "3        0.0  0.0  ...           0.0           1.0            0.0   \n",
       "4        0.0  0.0  ...           0.0           0.0            0.0   \n",
       "\n",
       "   Line: Leg Stump  Line: Legside  Line: Middle Stump  Line: Off Stump  \\\n",
       "0              0.0            0.0                 0.0              0.0   \n",
       "1              0.0            0.0                 1.0              0.0   \n",
       "2              0.0            0.0                 1.0              0.0   \n",
       "3              0.0            0.0                 0.0              0.0   \n",
       "4              0.0            0.0                 0.0              1.0   \n",
       "\n",
       "   Line: Offside  Line: Wide Outside Off  Out  \n",
       "0            0.0                     1.0    0  \n",
       "1            0.0                     0.0    0  \n",
       "2            0.0                     0.0    0  \n",
       "3            1.0                     0.0    0  \n",
       "4            0.0                     0.0    0  \n",
       "\n",
       "[5 rows x 29 columns]"
      ]
     },
     "execution_count": 123,
     "metadata": {},
     "output_type": "execute_result"
    }
   ],
   "source": [
    "# Removing the Unnamed: 0 column\n",
    "player_balls.drop(['Unnamed: 0'], axis = 1, inplace = True)\n",
    "player_balls.head()"
   ]
  },
  {
   "cell_type": "markdown",
   "metadata": {},
   "source": [
    "# Random Forest Classification"
   ]
  },
  {
   "cell_type": "markdown",
   "metadata": {},
   "source": [
    "### Breaking Data into Training and Testing"
   ]
  },
  {
   "cell_type": "code",
   "execution_count": 124,
   "metadata": {},
   "outputs": [],
   "source": [
    "# Splitting the data randomly between the 4 variables\n",
    "# Need to drop Out column from X_train and X_test since that's what we are going to predict\n",
    "# Test size is 0.2 because we want the testing data to be 20% of the original data\n",
    "train_features, test_features, train_result, test_result = train_test_split(player_balls.drop(['Out'], axis = 1), player_balls['Out'], test_size = 0.20, random_state = 42)"
   ]
  },
  {
   "cell_type": "markdown",
   "metadata": {},
   "source": [
    "### Finding Best Model using ROC_AUC"
   ]
  },
  {
   "cell_type": "code",
   "execution_count": 125,
   "metadata": {},
   "outputs": [],
   "source": [
    "from sklearn.linear_model import LogisticRegression\n",
    "from sklearn.tree import DecisionTreeClassifier\n",
    "from sklearn.ensemble import RandomForestClassifier"
   ]
  },
  {
   "cell_type": "code",
   "execution_count": 126,
   "metadata": {},
   "outputs": [],
   "source": [
    "model_LR = LogisticRegression(solver = 'liblinear')\n",
    "model_LR.fit(train_features, train_result)\n",
    "probs_LR = model_LR.predict_proba(test_features)[:, 1]"
   ]
  },
  {
   "cell_type": "code",
   "execution_count": 127,
   "metadata": {},
   "outputs": [],
   "source": [
    "model_DT = DecisionTreeClassifier()\n",
    "model_DT.fit(train_features, train_result)\n",
    "probs_DT = model_DT.predict_proba(test_features)[:, 1]"
   ]
  },
  {
   "cell_type": "code",
   "execution_count": 128,
   "metadata": {},
   "outputs": [],
   "source": [
    "model_RF = RandomForestClassifier()\n",
    "model_RF.fit(train_features, train_result)\n",
    "probs_RF = model_RF.predict_proba(test_features)[:, 1]"
   ]
  },
  {
   "cell_type": "code",
   "execution_count": 129,
   "metadata": {},
   "outputs": [],
   "source": [
    "auc_LR = roc_auc_score(test_result, probs_LR)\n",
    "fpr_LR, tpr_LR, thresholds_LR = roc_curve(test_result, probs_LR)\n",
    "\n",
    "auc_DT = roc_auc_score(test_result, probs_DT)\n",
    "fpr_DT, tpr_DT, thresholds_DT = roc_curve(test_result, probs_DT)\n",
    "\n",
    "auc_RF = roc_auc_score(test_result, probs_RF)\n",
    "fpr_RF, tpr_RF, thresholds_RF = roc_curve(test_result, probs_RF)"
   ]
  },
  {
   "cell_type": "code",
   "execution_count": 130,
   "metadata": {},
   "outputs": [
    {
     "data": {
      "image/png": "[encoded data removed]",
      "text/plain": [
       "<Figure size 864x504 with 1 Axes>"
      ]
     },
     "metadata": {
      "needs_background": "light"
     },
     "output_type": "display_data"
    }
   ],
   "source": [
    "plt.figure(figsize=(12, 7))\n",
    "plt.plot(fpr_LR, tpr_LR, label=f'AUC (Logistic Regression) = {auc_LR:.2f}')\n",
    "plt.plot(fpr_DT, tpr_DT, label=f'AUC (Decision Tree) = {auc_DT:.2f}')\n",
    "plt.plot(fpr_RF, tpr_RF, label=f'AUC (Random Forests) = {auc_RF:.2f}')\n",
    "plt.plot([0, 1], [0, 1], color='blue', linestyle='--', label='Baseline')\n",
    "plt.title('ROC Curve', size=20)\n",
    "plt.xlabel('False Positive Rate', size=14)\n",
    "plt.ylabel('True Positive Rate', size=14)\n",
    "plt.legend();"
   ]
  },
  {
   "cell_type": "markdown",
   "metadata": {},
   "source": [
    "### Training"
   ]
  },
  {
   "cell_type": "code",
   "execution_count": 131,
   "metadata": {},
   "outputs": [],
   "source": [
    "# n_estimators determines the number of trees you want to use\n",
    "# n_estimators should be max 50 so you have to determine the sweet spot\n",
    "model_RF = RandomForestClassifier(random_state = 42)"
   ]
  },
  {
   "cell_type": "code",
   "execution_count": 132,
   "metadata": {},
   "outputs": [
    {
     "data": {
      "text/html": [
       "<style>#sk-container-id-4 {color: black;background-color: white;}#sk-container-id-4 pre{padding: 0;}#sk-container-id-4 div.sk-toggleable {background-color: white;}#sk-container-id-4 label.sk-toggleable__label {cursor: pointer;display: block;width: 100%;margin-bottom: 0;padding: 0.3em;box-sizing: border-box;text-align: center;}#sk-container-id-4 label.sk-toggleable__label-arrow:before {content: \"▸\";float: left;margin-right: 0.25em;color: #696969;}#sk-container-id-4 label.sk-toggleable__label-arrow:hover:before {color: black;}#sk-container-id-4 div.sk-estimator:hover label.sk-toggleable__label-arrow:before {color: black;}#sk-container-id-4 div.sk-toggleable__content {max-height: 0;max-width: 0;overflow: hidden;text-align: left;background-color: #f0f8ff;}#sk-container-id-4 div.sk-toggleable__content pre {margin: 0.2em;color: black;border-radius: 0.25em;background-color: #f0f8ff;}#sk-container-id-4 input.sk-toggleable__control:checked~div.sk-toggleable__content {max-height: 200px;max-width: 100%;overflow: auto;}#sk-container-id-4 input.sk-toggleable__control:checked~label.sk-toggleable__label-arrow:before {content: \"▾\";}#sk-container-id-4 div.sk-estimator input.sk-toggleable__control:checked~label.sk-toggleable__label {background-color: #d4ebff;}#sk-container-id-4 div.sk-label input.sk-toggleable__control:checked~label.sk-toggleable__label {background-color: #d4ebff;}#sk-container-id-4 input.sk-hidden--visually {border: 0;clip: rect(1px 1px 1px 1px);clip: rect(1px, 1px, 1px, 1px);height: 1px;margin: -1px;overflow: hidden;padding: 0;position: absolute;width: 1px;}#sk-container-id-4 div.sk-estimator {font-family: monospace;background-color: #f0f8ff;border: 1px dotted black;border-radius: 0.25em;box-sizing: border-box;margin-bottom: 0.5em;}#sk-container-id-4 div.sk-estimator:hover {background-color: #d4ebff;}#sk-container-id-4 div.sk-parallel-item::after {content: \"\";width: 100%;border-bottom: 1px solid gray;flex-grow: 1;}#sk-container-id-4 div.sk-label:hover label.sk-toggleable__label {background-color: #d4ebff;}#sk-container-id-4 div.sk-serial::before {content: \"\";position: absolute;border-left: 1px solid gray;box-sizing: border-box;top: 0;bottom: 0;left: 50%;z-index: 0;}#sk-container-id-4 div.sk-serial {display: flex;flex-direction: column;align-items: center;background-color: white;padding-right: 0.2em;padding-left: 0.2em;position: relative;}#sk-container-id-4 div.sk-item {position: relative;z-index: 1;}#sk-container-id-4 div.sk-parallel {display: flex;align-items: stretch;justify-content: center;background-color: white;position: relative;}#sk-container-id-4 div.sk-item::before, #sk-container-id-4 div.sk-parallel-item::before {content: \"\";position: absolute;border-left: 1px solid gray;box-sizing: border-box;top: 0;bottom: 0;left: 50%;z-index: -1;}#sk-container-id-4 div.sk-parallel-item {display: flex;flex-direction: column;z-index: 1;position: relative;background-color: white;}#sk-container-id-4 div.sk-parallel-item:first-child::after {align-self: flex-end;width: 50%;}#sk-container-id-4 div.sk-parallel-item:last-child::after {align-self: flex-start;width: 50%;}#sk-container-id-4 div.sk-parallel-item:only-child::after {width: 0;}#sk-container-id-4 div.sk-dashed-wrapped {border: 1px dashed gray;margin: 0 0.4em 0.5em 0.4em;box-sizing: border-box;padding-bottom: 0.4em;background-color: white;}#sk-container-id-4 div.sk-label label {font-family: monospace;font-weight: bold;display: inline-block;line-height: 1.2em;}#sk-container-id-4 div.sk-label-container {text-align: center;}#sk-container-id-4 div.sk-container {/* jupyter's `normalize.less` sets `[hidden] { display: none; }` but bootstrap.min.css set `[hidden] { display: none !important; }` so we also need the `!important` here to be able to override the default hidden behavior on the sphinx rendered scikit-learn.org. See: https://github.com/scikit-learn/scikit-learn/issues/21755 */display: inline-block !important;position: relative;}#sk-container-id-4 div.sk-text-repr-fallback {display: none;}</style><div id=\"sk-container-id-4\" class=\"sk-top-container\"><div class=\"sk-text-repr-fallback\"><pre>RandomForestClassifier(random_state=42)</pre><b>In a Jupyter environment, please rerun this cell to show the HTML representation or trust the notebook. <br />On GitHub, the HTML representation is unable to render, please try loading this page with nbviewer.org.</b></div><div class=\"sk-container\" hidden><div class=\"sk-item\"><div class=\"sk-estimator sk-toggleable\"><input class=\"sk-toggleable__control sk-hidden--visually\" id=\"sk-estimator-id-4\" type=\"checkbox\" checked><label for=\"sk-estimator-id-4\" class=\"sk-toggleable__label sk-toggleable__label-arrow\">RandomForestClassifier</label><div class=\"sk-toggleable__content\"><pre>RandomForestClassifier(random_state=42)</pre></div></div></div></div></div>"
      ],
      "text/plain": [
       "RandomForestClassifier(random_state=42)"
      ]
     },
     "execution_count": 132,
     "metadata": {},
     "output_type": "execute_result"
    }
   ],
   "source": [
    "model_RF.fit(train_features, train_result)"
   ]
  },
  {
   "cell_type": "markdown",
   "metadata": {},
   "source": [
    "### Testing"
   ]
  },
  {
   "cell_type": "code",
   "execution_count": 133,
   "metadata": {},
   "outputs": [],
   "source": [
    "prediction_test_RF = model_RF.predict(test_features)"
   ]
  },
  {
   "cell_type": "markdown",
   "metadata": {},
   "source": [
    "### Evaluation"
   ]
  },
  {
   "cell_type": "code",
   "execution_count": 134,
   "metadata": {},
   "outputs": [
    {
     "name": "stdout",
     "output_type": "stream",
     "text": [
      "*********** METRICS FOR IMBALANCED DATA ***********\n",
      "Accuracy =  0.983440662373505\n",
      "\n",
      "Confusion Matrix:\n",
      " [[2138    6]\n",
      " [  30    0]]\n",
      "Not out accuracy =  0.9861623616236163\n",
      "Out accuracy =  0.0\n",
      "\n",
      "ROC_AUC Score:\n",
      "0.5220771144278605\n"
     ]
    }
   ],
   "source": [
    "print(\"*********** METRICS FOR IMBALANCED DATA ***********\")\n",
    "\n",
    "# Accuracy is not the best metric because the model can simply just\n",
    "# predict the majority class and get a high accuracy\n",
    "print(\"Accuracy = \", metrics.accuracy_score(test_result, prediction_test_RF))\n",
    "\n",
    "# The confusion matrix shows that we aren't predicting out correctly\n",
    "cm = confusion_matrix(test_result, prediction_test_RF)\n",
    "print(\"\\nConfusion Matrix:\\n\", cm)\n",
    "print(\"Not out accuracy = \", cm[0, 0] / (cm[0, 0] + cm[1, 0]))\n",
    "print(\"Out accuracy = \", cm[1, 1] / (cm[0, 1] + cm[1, 1]))\n",
    "\n",
    "prob_y_test = model_RF.predict_proba(test_features)\n",
    "print(\"\\nROC_AUC Score:\")\n",
    "print(roc_auc_score(test_result, prob_y_test[:, 1]))"
   ]
  },
  {
   "cell_type": "markdown",
   "metadata": {},
   "source": [
    "# Using Techniques to Balance the Data"
   ]
  },
  {
   "cell_type": "code",
   "execution_count": 135,
   "metadata": {},
   "outputs": [
    {
     "name": "stdout",
     "output_type": "stream",
     "text": [
      "0    10721\n",
      "1      146\n",
      "Name: Out, dtype: int64\n"
     ]
    }
   ],
   "source": [
    "# There is a huge imbalance between the number of 0s and 1s the model predicted\n",
    "print(player_balls['Out'].value_counts())"
   ]
  },
  {
   "cell_type": "markdown",
   "metadata": {},
   "source": [
    "### 1) Oversampling Minority Training Data\n",
    "\n",
    "Note that we are only going to first split the data into train and test before oversampling. This is because if we oversample before, then some data later in the training set will be identical to the some data in the test set which can cause overfitting.\n",
    "\n",
    "Also, we are only going to oversample the training set because oversampling testing data can misrepresent the original test data. Therefore, you shouldn't generally be touching your test data."
   ]
  },
  {
   "cell_type": "code",
   "execution_count": 136,
   "metadata": {},
   "outputs": [],
   "source": [
    "train_features, test_features, train_result, test_result = train_test_split(player_balls.drop(['Out'], axis = 1), player_balls['Out'], test_size = 0.20, random_state = 42)"
   ]
  },
  {
   "cell_type": "code",
   "execution_count": 137,
   "metadata": {},
   "outputs": [],
   "source": [
    "from imblearn.over_sampling import RandomOverSampler"
   ]
  },
  {
   "cell_type": "code",
   "execution_count": 138,
   "metadata": {},
   "outputs": [
    {
     "name": "stdout",
     "output_type": "stream",
     "text": [
      "0    8577\n",
      "1    8577\n",
      "Name: Out, dtype: int64\n"
     ]
    }
   ],
   "source": [
    "ros = RandomOverSampler(random_state = 42)\n",
    "train_features, train_result = ros.fit_resample(train_features, train_result)\n",
    "\n",
    "print(train_result.value_counts())"
   ]
  },
  {
   "cell_type": "code",
   "execution_count": 139,
   "metadata": {},
   "outputs": [],
   "source": [
    "model_RF = RandomForestClassifier(random_state = 42)\n",
    "model_RF.fit(train_features, train_result)\n",
    "prediction_test_RF = model_RF.predict(test_features)"
   ]
  },
  {
   "cell_type": "code",
   "execution_count": 140,
   "metadata": {},
   "outputs": [
    {
     "name": "stdout",
     "output_type": "stream",
     "text": [
      "*********** METRICS FOR OVERSAMPLED DATA ***********\n",
      "Accuracy =  0.9655013799448022\n",
      "\n",
      "Confusion Matrix:\n",
      " [[2099   45]\n",
      " [  30    0]]\n",
      "Not out accuracy =  0.9859088774072334\n",
      "Out accuracy =  0.0\n",
      "\n",
      "ROC_AUC Score:\n",
      "0.5694651741293532\n"
     ]
    }
   ],
   "source": [
    "print(\"*********** METRICS FOR OVERSAMPLED DATA ***********\")\n",
    "\n",
    "# Accuracy is not the best metric because the model can simply just\n",
    "# predict the majority class and get a high accuracy\n",
    "print(\"Accuracy = \", metrics.accuracy_score(test_result, prediction_test_RF))\n",
    "\n",
    "# The confusion matrix shows that we aren't predicting out correctly\n",
    "cm = confusion_matrix(test_result, prediction_test_RF)\n",
    "print(\"\\nConfusion Matrix:\\n\", cm)\n",
    "print(\"Not out accuracy = \", cm[0, 0] / (cm[0, 0] + cm[1, 0]))\n",
    "print(\"Out accuracy = \", cm[1, 1] / (cm[0, 1] + cm[1, 1]))\n",
    "\n",
    "prob_y_test = model_RF.predict_proba(test_features)\n",
    "print(\"\\nROC_AUC Score:\")\n",
    "print(roc_auc_score(test_result, prob_y_test[:, 1]))"
   ]
  },
  {
   "cell_type": "markdown",
   "metadata": {},
   "source": [
    "### 2) Undersample Majority Training Data"
   ]
  },
  {
   "cell_type": "code",
   "execution_count": 141,
   "metadata": {},
   "outputs": [],
   "source": [
    "train_features, test_features, train_result, test_result = train_test_split(player_balls.drop(['Out'], axis = 1), player_balls['Out'], test_size = 0.20, random_state = 42)"
   ]
  },
  {
   "cell_type": "code",
   "execution_count": 142,
   "metadata": {},
   "outputs": [],
   "source": [
    "from imblearn.under_sampling import RandomUnderSampler"
   ]
  },
  {
   "cell_type": "code",
   "execution_count": 143,
   "metadata": {},
   "outputs": [
    {
     "name": "stdout",
     "output_type": "stream",
     "text": [
      "0    116\n",
      "1    116\n",
      "Name: Out, dtype: int64\n"
     ]
    }
   ],
   "source": [
    "rus = RandomUnderSampler(random_state = 42)\n",
    "train_features, train_result = rus.fit_resample(train_features, train_result)\n",
    "\n",
    "print(train_result.value_counts())"
   ]
  },
  {
   "cell_type": "code",
   "execution_count": 144,
   "metadata": {},
   "outputs": [],
   "source": [
    "model_RF = RandomForestClassifier(random_state = 42)\n",
    "model_RF.fit(train_features, train_result)\n",
    "prediction_test_RF = model_RF.predict(test_features)"
   ]
  },
  {
   "cell_type": "code",
   "execution_count": 145,
   "metadata": {},
   "outputs": [
    {
     "name": "stdout",
     "output_type": "stream",
     "text": [
      "*********** METRICS FOR UNDERSAMPLED DATA ***********\n",
      "Accuracy =  0.5354185832566697\n",
      "\n",
      "Confusion Matrix:\n",
      " [[1144 1000]\n",
      " [  10   20]]\n",
      "Not out accuracy =  0.9913344887348353\n",
      "Out accuracy =  0.0196078431372549\n",
      "\n",
      "ROC_AUC Score:\n",
      "0.5849657960199004\n"
     ]
    }
   ],
   "source": [
    "print(\"*********** METRICS FOR UNDERSAMPLED DATA ***********\")\n",
    "\n",
    "# Accuracy is not the best metric because the model can simply just\n",
    "# predict the majority class and get a high accuracy\n",
    "print(\"Accuracy = \", metrics.accuracy_score(test_result, prediction_test_RF))\n",
    "\n",
    "# The confusion matrix shows that we aren't predicting out correctly\n",
    "cm = confusion_matrix(test_result, prediction_test_RF)\n",
    "print(\"\\nConfusion Matrix:\\n\", cm)\n",
    "print(\"Not out accuracy = \", cm[0, 0] / (cm[0, 0] + cm[1, 0]))\n",
    "print(\"Out accuracy = \", cm[1, 1] / (cm[0, 1] + cm[1, 1]))\n",
    "\n",
    "prob_y_test = model_RF.predict_proba(test_features)\n",
    "print(\"\\nROC_AUC Score:\")\n",
    "print(roc_auc_score(test_result, prob_y_test[:, 1]))"
   ]
  },
  {
   "cell_type": "markdown",
   "metadata": {},
   "source": [
    "### 3) Both Oversample and Undersample the Training Data"
   ]
  },
  {
   "cell_type": "code",
   "execution_count": 146,
   "metadata": {},
   "outputs": [],
   "source": [
    "train_features, test_features, train_result, test_result = train_test_split(player_balls.drop(['Out'], axis = 1), player_balls['Out'], test_size = 0.20, random_state = 42)"
   ]
  },
  {
   "cell_type": "code",
   "execution_count": 147,
   "metadata": {},
   "outputs": [
    {
     "data": {
      "text/plain": [
       "0    857\n",
       "1    857\n",
       "Name: Out, dtype: int64"
      ]
     },
     "execution_count": 147,
     "metadata": {},
     "output_type": "execute_result"
    }
   ],
   "source": [
    "# Oversampling the minority class until it is 20% of the majority class data\n",
    "ros = RandomOverSampler(sampling_strategy = 0.1, random_state = 42)\n",
    "train_features, train_result = ros.fit_resample(train_features, train_result)\n",
    "\n",
    "# Undersampling the majority class\n",
    "rus = RandomUnderSampler()\n",
    "train_features, train_result = rus.fit_resample(train_features, train_result)\n",
    "\n",
    "train_result.value_counts()"
   ]
  },
  {
   "cell_type": "code",
   "execution_count": 148,
   "metadata": {},
   "outputs": [],
   "source": [
    "model_RF = RandomForestClassifier(random_state = 42)\n",
    "model_RF.fit(train_features, train_result)\n",
    "prediction_test_RF = model_RF.predict(test_features)"
   ]
  },
  {
   "cell_type": "code",
   "execution_count": 149,
   "metadata": {},
   "outputs": [
    {
     "name": "stdout",
     "output_type": "stream",
     "text": [
      "*********** METRICS FOR OVERSAMPLED AND UNDERSAMPLED DATA ***********\n",
      "Accuracy =  0.9001839926402944\n",
      "\n",
      "Confusion Matrix:\n",
      " [[1954  190]\n",
      " [  27    3]]\n",
      "Not out accuracy =  0.9863705199394245\n",
      "Out accuracy =  0.015544041450777202\n",
      "\n",
      "ROC_AUC Score:\n",
      "0.5547419154228855\n"
     ]
    }
   ],
   "source": [
    "print(\"*********** METRICS FOR OVERSAMPLED AND UNDERSAMPLED DATA ***********\")\n",
    "\n",
    "# Accuracy is not the best metric because the model can simply just\n",
    "# predict the majority class and get a high accuracy\n",
    "print(\"Accuracy = \", metrics.accuracy_score(test_result, prediction_test_RF))\n",
    "\n",
    "# The confusion matrix shows that we aren't predicting out correctly\n",
    "cm = confusion_matrix(test_result, prediction_test_RF)\n",
    "print(\"\\nConfusion Matrix:\\n\", cm)\n",
    "print(\"Not out accuracy = \", cm[0, 0] / (cm[0, 0] + cm[1, 0]))\n",
    "print(\"Out accuracy = \", cm[1, 1] / (cm[0, 1] + cm[1, 1]))\n",
    "\n",
    "prob_y_test = model_RF.predict_proba(test_features)\n",
    "print(\"\\nROC_AUC Score:\")\n",
    "print(roc_auc_score(test_result, prob_y_test[:, 1]))"
   ]
  },
  {
   "cell_type": "markdown",
   "metadata": {},
   "source": [
    "### 4) Penalize Learning Algorithms more for mistakes on Minority Classes"
   ]
  },
  {
   "cell_type": "code",
   "execution_count": 150,
   "metadata": {},
   "outputs": [],
   "source": [
    "train_features, test_features, train_result, test_result = train_test_split(player_balls.drop(['Out'], axis = 1), player_balls['Out'], test_size = 0.20, random_state = 42)"
   ]
  },
  {
   "cell_type": "code",
   "execution_count": 151,
   "metadata": {},
   "outputs": [],
   "source": [
    "model_RF = RandomForestClassifier(random_state = 42, class_weight = 'balanced')\n",
    "model_RF.fit(train_features, train_result)\n",
    "prediction_test_RF = model_RF.predict(test_features)"
   ]
  },
  {
   "cell_type": "code",
   "execution_count": 152,
   "metadata": {},
   "outputs": [
    {
     "name": "stdout",
     "output_type": "stream",
     "text": [
      "*********** METRICS FOR PENALIZED ALGORITHM ***********\n",
      "Accuracy =  0.9714811407543699\n",
      "\n",
      "Confusion Matrix:\n",
      " [[2112   32]\n",
      " [  30    0]]\n",
      "Not out accuracy =  0.9859943977591037\n",
      "Out accuracy =  0.0\n",
      "\n",
      "ROC_AUC Score:\n",
      "0.580185012437811\n"
     ]
    }
   ],
   "source": [
    "print(\"*********** METRICS FOR PENALIZED ALGORITHM ***********\")\n",
    "\n",
    "# Accuracy is not the best metric because the model can simply just\n",
    "# predict the majority class and get a high accuracy\n",
    "print(\"Accuracy = \", metrics.accuracy_score(test_result, prediction_test_RF))\n",
    "\n",
    "# The confusion matrix shows that we aren't predicting out correctly\n",
    "cm = confusion_matrix(test_result, prediction_test_RF)\n",
    "print(\"\\nConfusion Matrix:\\n\", cm)\n",
    "print(\"Not out accuracy = \", cm[0, 0] / (cm[0, 0] + cm[1, 0]))\n",
    "print(\"Out accuracy = \", cm[1, 1] / (cm[0, 1] + cm[1, 1]))\n",
    "\n",
    "prob_y_test = model_RF.predict_proba(test_features)\n",
    "print(\"\\nROC_AUC Score:\")\n",
    "print(roc_auc_score(test_result, prob_y_test[:, 1]))"
   ]
  }
 ],
 "metadata": {
  "interpreter": {
   "hash": "425927320cfd38c1f4d04dab592055e2380257b6c8d6532762caec5aa72862cb"
  },
  "kernelspec": {
   "display_name": "Python 3.9.7 ('base')",
   "language": "python",
   "name": "python3"
  },
  "language_info": {
   "codemirror_mode": {
    "name": "ipython",
    "version": 3
   },
   "file_extension": ".py",
   "mimetype": "text/x-python",
   "name": "python",
   "nbconvert_exporter": "python",
   "pygments_lexer": "ipython3",
   "version": "3.9.7"
  },
  "orig_nbformat": 4
 },
 "nbformat": 4,
 "nbformat_minor": 2
}
